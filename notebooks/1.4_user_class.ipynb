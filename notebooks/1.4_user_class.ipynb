{
 "cells": [
  {
   "cell_type": "markdown",
   "metadata": {},
   "source": [
    "## Aborted"
   ]
  },
  {
   "cell_type": "code",
   "execution_count": 1,
   "metadata": {},
   "outputs": [],
   "source": [
    "import os\n",
    "from dotenv import load_dotenv, find_dotenv\n",
    "load_dotenv(find_dotenv())\n",
    "import importlib\n",
    "\n",
    "data_path = os.getenv('DATA_PATH')\n",
    "project_path = os.getenv('PROJECT_PATH')\n",
    "os.chdir(project_path)\n",
    "\n",
    "import pandas as pd\n",
    "\n",
    "\n",
    "import src.models.trajectory\n",
    "importlib.reload(src.models.trajectory)\n",
    "from src.models.trajectory import Trajectory\n",
    "\n",
    "import src.models.trajectories\n",
    "importlib.reload(src.models.trajectories)\n",
    "from src.models.trajectories import Trajectories\n",
    "\n",
    "import src.utils.px_scatter\n",
    "importlib.reload(src.utils.px_scatter)\n",
    "from src.utils.px_scatter import plot_timeline\n",
    "\n",
    "import src.utils.px_scatter_mapbox\n",
    "importlib.reload(src.utils.px_scatter_mapbox)\n",
    "from src.utils.px_scatter_mapbox import plot_map\n",
    "\n",
    "import src.models.user\n",
    "importlib.reload(src.models.user)\n",
    "from src.models.user import User\n",
    "\n",
    "import random\n",
    "users = [user for user in os.listdir(data_path) if os.path.isdir(os.path.join(data_path, user))]\n",
    "users.sort()"
   ]
  },
  {
   "cell_type": "code",
   "execution_count": null,
   "metadata": {},
   "outputs": [],
   "source": []
  },
  {
   "cell_type": "code",
   "execution_count": null,
   "metadata": {},
   "outputs": [],
   "source": []
  },
  {
   "cell_type": "code",
   "execution_count": 2,
   "metadata": {},
   "outputs": [
    {
     "data": {
      "text/plain": [
       "{'id': '123',\n",
       " 'trajectories_count': 5,\n",
       " 'records_count': 8828,\n",
       " 'average_centroid': {'latitude': 35.42031401083759,\n",
       "  'longitude': 110.45836191261476}}"
      ]
     },
     "execution_count": 2,
     "metadata": {},
     "output_type": "execute_result"
    }
   ],
   "source": [
    "user = User(\n",
    "    id='123',\n",
    "    trajectories=Trajectories.from_user(\n",
    "        user_id='123'\n",
    "    ).trajectories\n",
    ")\n",
    "user.features"
   ]
  },
  {
   "cell_type": "code",
   "execution_count": 12,
   "metadata": {},
   "outputs": [
    {
     "name": "stdout",
     "output_type": "stream",
     "text": [
      "Processing user 000\n",
      "Processing user 001\n",
      "Processing user 002\n",
      "Processing user 003\n",
      "Processing user 004\n",
      "Processing user 005\n",
      "Processing user 006\n",
      "Processing user 007\n",
      "Processing user 008\n",
      "Processing user 009\n",
      "Processing user 010\n",
      "Processing user 011\n",
      "Processing user 012\n",
      "Processing user 013\n",
      "Processing user 014\n",
      "Processing user 015\n",
      "Processing user 016\n",
      "Processing user 017\n",
      "Processing user 018\n",
      "Processing user 019\n",
      "Processing user 020\n",
      "Processing user 021\n",
      "Processing user 022\n",
      "Processing user 023\n",
      "Processing user 024\n",
      "Processing user 025\n",
      "Processing user 026\n",
      "Processing user 027\n",
      "Processing user 028\n",
      "Processing user 029\n",
      "Processing user 030\n",
      "Processing user 031\n",
      "Processing user 032\n",
      "Processing user 033\n",
      "Processing user 034\n",
      "Processing user 035\n",
      "Processing user 036\n",
      "Processing user 037\n",
      "Processing user 038\n",
      "Processing user 039\n",
      "Processing user 040\n",
      "Processing user 041\n",
      "Processing user 042\n",
      "Processing user 043\n",
      "Processing user 044\n",
      "Processing user 045\n",
      "Processing user 046\n",
      "Processing user 047\n",
      "Processing user 048\n",
      "Processing user 049\n",
      "Processing user 050\n",
      "Processing user 051\n",
      "Processing user 052\n",
      "Processing user 053\n",
      "Processing user 054\n",
      "Processing user 055\n",
      "Processing user 056\n",
      "Processing user 057\n",
      "Processing user 058\n",
      "Processing user 059\n",
      "Processing user 060\n",
      "Processing user 061\n",
      "Processing user 062\n",
      "Processing user 063\n",
      "Processing user 064\n",
      "Processing user 065\n",
      "Processing user 066\n",
      "Processing user 067\n",
      "Processing user 068\n",
      "Processing user 069\n",
      "Processing user 070\n",
      "Processing user 071\n",
      "Processing user 072\n",
      "Processing user 073\n",
      "Processing user 074\n",
      "Processing user 075\n",
      "Processing user 076\n",
      "Processing user 077\n",
      "Processing user 078\n",
      "Processing user 079\n",
      "Processing user 080\n",
      "Processing user 081\n",
      "Processing user 082\n",
      "Processing user 083\n",
      "Processing user 084\n",
      "Processing user 085\n",
      "Processing user 086\n",
      "Processing user 087\n",
      "Processing user 088\n",
      "Processing user 089\n",
      "Processing user 090\n",
      "Processing user 091\n",
      "Processing user 092\n",
      "Processing user 093\n",
      "Processing user 094\n",
      "Processing user 095\n",
      "Processing user 096\n",
      "Processing user 097\n",
      "Processing user 098\n",
      "Processing user 099\n",
      "Processing user 100\n",
      "Processing user 101\n",
      "Processing user 102\n",
      "Processing user 103\n",
      "Processing user 104\n",
      "Processing user 105\n",
      "Processing user 106\n",
      "Processing user 107\n",
      "Processing user 108\n",
      "Processing user 109\n",
      "Processing user 110\n"
     ]
    },
    {
     "name": "stderr",
     "output_type": "stream",
     "text": [
      "/home/yohann/projects/geolife/src/utils/parsers.py:28: UserWarning: Could not infer format, so each element will be parsed individually, falling back to `dateutil`. To ensure parsing is consistent and as-expected, please specify a format.\n",
      "  df['datetime'] = pd.to_datetime(df['date'] + ' ' + df['time'])\n"
     ]
    },
    {
     "name": "stdout",
     "output_type": "stream",
     "text": [
      "Processing user 111\n",
      "Processing user 112\n",
      "Processing user 113\n",
      "Processing user 114\n",
      "Processing user 115\n",
      "Processing user 116\n",
      "Processing user 117\n",
      "Processing user 118\n",
      "Processing user 119\n",
      "Processing user 120\n",
      "Processing user 121\n",
      "Processing user 122\n",
      "Processing user 123\n",
      "Processing user 124\n",
      "Processing user 125\n",
      "Processing user 126\n",
      "Processing user 127\n",
      "Processing user 128\n",
      "Processing user 129\n",
      "Processing user 130\n",
      "Processing user 131\n",
      "Processing user 132\n",
      "Processing user 133\n",
      "Processing user 134\n",
      "Processing user 135\n",
      "Processing user 136\n",
      "Processing user 137\n",
      "Processing user 138\n",
      "Processing user 139\n",
      "Processing user 140\n",
      "Processing user 141\n",
      "Processing user 142\n",
      "Processing user 143\n",
      "Processing user 144\n",
      "Processing user 145\n",
      "Processing user 146\n",
      "Processing user 147\n",
      "Processing user 148\n",
      "Processing user 149\n",
      "Processing user 150\n",
      "Processing user 151\n",
      "Processing user 152\n",
      "Processing user 153\n",
      "Processing user 154\n",
      "Processing user 155\n",
      "Processing user 156\n",
      "Processing user 157\n",
      "Processing user 158\n",
      "Processing user 159\n",
      "Processing user 160\n",
      "Processing user 161\n",
      "Processing user 162\n",
      "Processing user 163\n",
      "Processing user 164\n",
      "Processing user 165\n",
      "Processing user 166\n",
      "Processing user 167\n",
      "Processing user 168\n",
      "Processing user 169\n",
      "Processing user 170\n",
      "Processing user 171\n",
      "Processing user 172\n",
      "Processing user 173\n",
      "Processing user 174\n",
      "Processing user 175\n",
      "Processing user 176\n",
      "Processing user 177\n",
      "Processing user 178\n",
      "Processing user 179\n",
      "Processing user 180\n",
      "Processing user 181\n"
     ]
    },
    {
     "ename": "",
     "evalue": "",
     "output_type": "error",
     "traceback": [
      "\u001b[1;31mThe Kernel crashed while executing code in the current cell or a previous cell. \n",
      "\u001b[1;31mPlease review the code in the cell(s) to identify a possible cause of the failure. \n",
      "\u001b[1;31mClick <a href='https://aka.ms/vscodeJupyterKernelCrash'>here</a> for more info. \n",
      "\u001b[1;31mView Jupyter <a href='command:jupyter.viewOutput'>log</a> for further details."
     ]
    }
   ],
   "source": [
    "users_features = []\n",
    "users_objects_list = []\n",
    "for user in users:\n",
    "    print(f'Processing user {user}')\n",
    "    user = User(\n",
    "        id=user,\n",
    "        trajectories=Trajectories.from_user(\n",
    "            user_id=user\n",
    "        ).trajectories\n",
    "    )\n",
    "    users_objects_list.append(user)\n",
    "    users_features.append(user.features)\n",
    "\n",
    "df = pd.DataFrame(users_features)\n",
    "df.to_csv('data/geolife_processed/users_features.csv', index=False)\n",
    "\n",
    "import pickle\n",
    "with open('data/geolife_processed/users_objects_list.pkl', 'wb') as f:\n",
    "    pickle.dump(users_objects_list, f)"
   ]
  },
  {
   "cell_type": "code",
   "execution_count": 4,
   "metadata": {},
   "outputs": [],
   "source": [
    "df = pd.DataFrame(users_features)\n",
    "df['lat'] = df['average_centroid'].apply(lambda x: x['latitude'])\n",
    "df['lon'] = df['average_centroid'].apply(lambda x: x['longitude'])\n",
    "df"
   ]
  },
  {
   "cell_type": "code",
   "execution_count": 21,
   "metadata": {},
   "outputs": [
    {
     "data": {
      "application/vnd.plotly.v1+json": {
       "config": {
        "plotlyServerURL": "https://plot.ly"
       },
       "data": [
        {
         "cluster": {
          "enabled": true
         },
         "lat": [
          40.02722616234116,
          39.92767003212059,
          39.97301353895003,
          37.496703457786225,
          35.929166823530224,
          39.717582763588254,
          39.95187316886629,
          37.843048099148376,
          36.33734091835194,
          30.634889026311104
         ],
         "lon": [
          116.41873756253926,
          116.3791024356,
          116.32063129837947,
          117.80966358577403,
          116.65204607866016,
          116.16123609400395,
          116.36273324940792,
          116.0993575931983,
          116.74317936304743,
          116.8689682269013
         ],
         "marker": {
          "size": 20
         },
         "mode": "markers",
         "type": "scattermapbox"
        }
       ],
       "layout": {
        "mapbox": {
         "accesstoken": "pk.eyJ1IjoieXpwdCIsImEiOiJjbHcyYTIzdWgwZzltMmtsOHg0NnUxaWpjIn0.0PM0eN5gsw8ipJ-ToUTDkg",
         "center": {
          "lat": 37.78385139909942,
          "lon": 116.58156554875117
         },
         "style": "dark",
         "zoom": 3
        },
        "margin": {
         "b": 0,
         "l": 0,
         "r": 0,
         "t": 0
        },
        "template": {
         "data": {
          "bar": [
           {
            "error_x": {
             "color": "#2a3f5f"
            },
            "error_y": {
             "color": "#2a3f5f"
            },
            "marker": {
             "line": {
              "color": "#E5ECF6",
              "width": 0.5
             },
             "pattern": {
              "fillmode": "overlay",
              "size": 10,
              "solidity": 0.2
             }
            },
            "type": "bar"
           }
          ],
          "barpolar": [
           {
            "marker": {
             "line": {
              "color": "#E5ECF6",
              "width": 0.5
             },
             "pattern": {
              "fillmode": "overlay",
              "size": 10,
              "solidity": 0.2
             }
            },
            "type": "barpolar"
           }
          ],
          "carpet": [
           {
            "aaxis": {
             "endlinecolor": "#2a3f5f",
             "gridcolor": "white",
             "linecolor": "white",
             "minorgridcolor": "white",
             "startlinecolor": "#2a3f5f"
            },
            "baxis": {
             "endlinecolor": "#2a3f5f",
             "gridcolor": "white",
             "linecolor": "white",
             "minorgridcolor": "white",
             "startlinecolor": "#2a3f5f"
            },
            "type": "carpet"
           }
          ],
          "choropleth": [
           {
            "colorbar": {
             "outlinewidth": 0,
             "ticks": ""
            },
            "type": "choropleth"
           }
          ],
          "contour": [
           {
            "colorbar": {
             "outlinewidth": 0,
             "ticks": ""
            },
            "colorscale": [
             [
              0,
              "#0d0887"
             ],
             [
              0.1111111111111111,
              "#46039f"
             ],
             [
              0.2222222222222222,
              "#7201a8"
             ],
             [
              0.3333333333333333,
              "#9c179e"
             ],
             [
              0.4444444444444444,
              "#bd3786"
             ],
             [
              0.5555555555555556,
              "#d8576b"
             ],
             [
              0.6666666666666666,
              "#ed7953"
             ],
             [
              0.7777777777777778,
              "#fb9f3a"
             ],
             [
              0.8888888888888888,
              "#fdca26"
             ],
             [
              1,
              "#f0f921"
             ]
            ],
            "type": "contour"
           }
          ],
          "contourcarpet": [
           {
            "colorbar": {
             "outlinewidth": 0,
             "ticks": ""
            },
            "type": "contourcarpet"
           }
          ],
          "heatmap": [
           {
            "colorbar": {
             "outlinewidth": 0,
             "ticks": ""
            },
            "colorscale": [
             [
              0,
              "#0d0887"
             ],
             [
              0.1111111111111111,
              "#46039f"
             ],
             [
              0.2222222222222222,
              "#7201a8"
             ],
             [
              0.3333333333333333,
              "#9c179e"
             ],
             [
              0.4444444444444444,
              "#bd3786"
             ],
             [
              0.5555555555555556,
              "#d8576b"
             ],
             [
              0.6666666666666666,
              "#ed7953"
             ],
             [
              0.7777777777777778,
              "#fb9f3a"
             ],
             [
              0.8888888888888888,
              "#fdca26"
             ],
             [
              1,
              "#f0f921"
             ]
            ],
            "type": "heatmap"
           }
          ],
          "heatmapgl": [
           {
            "colorbar": {
             "outlinewidth": 0,
             "ticks": ""
            },
            "colorscale": [
             [
              0,
              "#0d0887"
             ],
             [
              0.1111111111111111,
              "#46039f"
             ],
             [
              0.2222222222222222,
              "#7201a8"
             ],
             [
              0.3333333333333333,
              "#9c179e"
             ],
             [
              0.4444444444444444,
              "#bd3786"
             ],
             [
              0.5555555555555556,
              "#d8576b"
             ],
             [
              0.6666666666666666,
              "#ed7953"
             ],
             [
              0.7777777777777778,
              "#fb9f3a"
             ],
             [
              0.8888888888888888,
              "#fdca26"
             ],
             [
              1,
              "#f0f921"
             ]
            ],
            "type": "heatmapgl"
           }
          ],
          "histogram": [
           {
            "marker": {
             "pattern": {
              "fillmode": "overlay",
              "size": 10,
              "solidity": 0.2
             }
            },
            "type": "histogram"
           }
          ],
          "histogram2d": [
           {
            "colorbar": {
             "outlinewidth": 0,
             "ticks": ""
            },
            "colorscale": [
             [
              0,
              "#0d0887"
             ],
             [
              0.1111111111111111,
              "#46039f"
             ],
             [
              0.2222222222222222,
              "#7201a8"
             ],
             [
              0.3333333333333333,
              "#9c179e"
             ],
             [
              0.4444444444444444,
              "#bd3786"
             ],
             [
              0.5555555555555556,
              "#d8576b"
             ],
             [
              0.6666666666666666,
              "#ed7953"
             ],
             [
              0.7777777777777778,
              "#fb9f3a"
             ],
             [
              0.8888888888888888,
              "#fdca26"
             ],
             [
              1,
              "#f0f921"
             ]
            ],
            "type": "histogram2d"
           }
          ],
          "histogram2dcontour": [
           {
            "colorbar": {
             "outlinewidth": 0,
             "ticks": ""
            },
            "colorscale": [
             [
              0,
              "#0d0887"
             ],
             [
              0.1111111111111111,
              "#46039f"
             ],
             [
              0.2222222222222222,
              "#7201a8"
             ],
             [
              0.3333333333333333,
              "#9c179e"
             ],
             [
              0.4444444444444444,
              "#bd3786"
             ],
             [
              0.5555555555555556,
              "#d8576b"
             ],
             [
              0.6666666666666666,
              "#ed7953"
             ],
             [
              0.7777777777777778,
              "#fb9f3a"
             ],
             [
              0.8888888888888888,
              "#fdca26"
             ],
             [
              1,
              "#f0f921"
             ]
            ],
            "type": "histogram2dcontour"
           }
          ],
          "mesh3d": [
           {
            "colorbar": {
             "outlinewidth": 0,
             "ticks": ""
            },
            "type": "mesh3d"
           }
          ],
          "parcoords": [
           {
            "line": {
             "colorbar": {
              "outlinewidth": 0,
              "ticks": ""
             }
            },
            "type": "parcoords"
           }
          ],
          "pie": [
           {
            "automargin": true,
            "type": "pie"
           }
          ],
          "scatter": [
           {
            "fillpattern": {
             "fillmode": "overlay",
             "size": 10,
             "solidity": 0.2
            },
            "type": "scatter"
           }
          ],
          "scatter3d": [
           {
            "line": {
             "colorbar": {
              "outlinewidth": 0,
              "ticks": ""
             }
            },
            "marker": {
             "colorbar": {
              "outlinewidth": 0,
              "ticks": ""
             }
            },
            "type": "scatter3d"
           }
          ],
          "scattercarpet": [
           {
            "marker": {
             "colorbar": {
              "outlinewidth": 0,
              "ticks": ""
             }
            },
            "type": "scattercarpet"
           }
          ],
          "scattergeo": [
           {
            "marker": {
             "colorbar": {
              "outlinewidth": 0,
              "ticks": ""
             }
            },
            "type": "scattergeo"
           }
          ],
          "scattergl": [
           {
            "marker": {
             "colorbar": {
              "outlinewidth": 0,
              "ticks": ""
             }
            },
            "type": "scattergl"
           }
          ],
          "scattermapbox": [
           {
            "marker": {
             "colorbar": {
              "outlinewidth": 0,
              "ticks": ""
             }
            },
            "type": "scattermapbox"
           }
          ],
          "scatterpolar": [
           {
            "marker": {
             "colorbar": {
              "outlinewidth": 0,
              "ticks": ""
             }
            },
            "type": "scatterpolar"
           }
          ],
          "scatterpolargl": [
           {
            "marker": {
             "colorbar": {
              "outlinewidth": 0,
              "ticks": ""
             }
            },
            "type": "scatterpolargl"
           }
          ],
          "scatterternary": [
           {
            "marker": {
             "colorbar": {
              "outlinewidth": 0,
              "ticks": ""
             }
            },
            "type": "scatterternary"
           }
          ],
          "surface": [
           {
            "colorbar": {
             "outlinewidth": 0,
             "ticks": ""
            },
            "colorscale": [
             [
              0,
              "#0d0887"
             ],
             [
              0.1111111111111111,
              "#46039f"
             ],
             [
              0.2222222222222222,
              "#7201a8"
             ],
             [
              0.3333333333333333,
              "#9c179e"
             ],
             [
              0.4444444444444444,
              "#bd3786"
             ],
             [
              0.5555555555555556,
              "#d8576b"
             ],
             [
              0.6666666666666666,
              "#ed7953"
             ],
             [
              0.7777777777777778,
              "#fb9f3a"
             ],
             [
              0.8888888888888888,
              "#fdca26"
             ],
             [
              1,
              "#f0f921"
             ]
            ],
            "type": "surface"
           }
          ],
          "table": [
           {
            "cells": {
             "fill": {
              "color": "#EBF0F8"
             },
             "line": {
              "color": "white"
             }
            },
            "header": {
             "fill": {
              "color": "#C8D4E3"
             },
             "line": {
              "color": "white"
             }
            },
            "type": "table"
           }
          ]
         },
         "layout": {
          "annotationdefaults": {
           "arrowcolor": "#2a3f5f",
           "arrowhead": 0,
           "arrowwidth": 1
          },
          "autotypenumbers": "strict",
          "coloraxis": {
           "colorbar": {
            "outlinewidth": 0,
            "ticks": ""
           }
          },
          "colorscale": {
           "diverging": [
            [
             0,
             "#8e0152"
            ],
            [
             0.1,
             "#c51b7d"
            ],
            [
             0.2,
             "#de77ae"
            ],
            [
             0.3,
             "#f1b6da"
            ],
            [
             0.4,
             "#fde0ef"
            ],
            [
             0.5,
             "#f7f7f7"
            ],
            [
             0.6,
             "#e6f5d0"
            ],
            [
             0.7,
             "#b8e186"
            ],
            [
             0.8,
             "#7fbc41"
            ],
            [
             0.9,
             "#4d9221"
            ],
            [
             1,
             "#276419"
            ]
           ],
           "sequential": [
            [
             0,
             "#0d0887"
            ],
            [
             0.1111111111111111,
             "#46039f"
            ],
            [
             0.2222222222222222,
             "#7201a8"
            ],
            [
             0.3333333333333333,
             "#9c179e"
            ],
            [
             0.4444444444444444,
             "#bd3786"
            ],
            [
             0.5555555555555556,
             "#d8576b"
            ],
            [
             0.6666666666666666,
             "#ed7953"
            ],
            [
             0.7777777777777778,
             "#fb9f3a"
            ],
            [
             0.8888888888888888,
             "#fdca26"
            ],
            [
             1,
             "#f0f921"
            ]
           ],
           "sequentialminus": [
            [
             0,
             "#0d0887"
            ],
            [
             0.1111111111111111,
             "#46039f"
            ],
            [
             0.2222222222222222,
             "#7201a8"
            ],
            [
             0.3333333333333333,
             "#9c179e"
            ],
            [
             0.4444444444444444,
             "#bd3786"
            ],
            [
             0.5555555555555556,
             "#d8576b"
            ],
            [
             0.6666666666666666,
             "#ed7953"
            ],
            [
             0.7777777777777778,
             "#fb9f3a"
            ],
            [
             0.8888888888888888,
             "#fdca26"
            ],
            [
             1,
             "#f0f921"
            ]
           ]
          },
          "colorway": [
           "#636efa",
           "#EF553B",
           "#00cc96",
           "#ab63fa",
           "#FFA15A",
           "#19d3f3",
           "#FF6692",
           "#B6E880",
           "#FF97FF",
           "#FECB52"
          ],
          "font": {
           "color": "#2a3f5f"
          },
          "geo": {
           "bgcolor": "white",
           "lakecolor": "white",
           "landcolor": "#E5ECF6",
           "showlakes": true,
           "showland": true,
           "subunitcolor": "white"
          },
          "hoverlabel": {
           "align": "left"
          },
          "hovermode": "closest",
          "mapbox": {
           "style": "light"
          },
          "paper_bgcolor": "white",
          "plot_bgcolor": "#E5ECF6",
          "polar": {
           "angularaxis": {
            "gridcolor": "white",
            "linecolor": "white",
            "ticks": ""
           },
           "bgcolor": "#E5ECF6",
           "radialaxis": {
            "gridcolor": "white",
            "linecolor": "white",
            "ticks": ""
           }
          },
          "scene": {
           "xaxis": {
            "backgroundcolor": "#E5ECF6",
            "gridcolor": "white",
            "gridwidth": 2,
            "linecolor": "white",
            "showbackground": true,
            "ticks": "",
            "zerolinecolor": "white"
           },
           "yaxis": {
            "backgroundcolor": "#E5ECF6",
            "gridcolor": "white",
            "gridwidth": 2,
            "linecolor": "white",
            "showbackground": true,
            "ticks": "",
            "zerolinecolor": "white"
           },
           "zaxis": {
            "backgroundcolor": "#E5ECF6",
            "gridcolor": "white",
            "gridwidth": 2,
            "linecolor": "white",
            "showbackground": true,
            "ticks": "",
            "zerolinecolor": "white"
           }
          },
          "shapedefaults": {
           "line": {
            "color": "#2a3f5f"
           }
          },
          "ternary": {
           "aaxis": {
            "gridcolor": "white",
            "linecolor": "white",
            "ticks": ""
           },
           "baxis": {
            "gridcolor": "white",
            "linecolor": "white",
            "ticks": ""
           },
           "bgcolor": "#E5ECF6",
           "caxis": {
            "gridcolor": "white",
            "linecolor": "white",
            "ticks": ""
           }
          },
          "title": {
           "x": 0.05
          },
          "xaxis": {
           "automargin": true,
           "gridcolor": "white",
           "linecolor": "white",
           "ticks": "",
           "title": {
            "standoff": 15
           },
           "zerolinecolor": "white",
           "zerolinewidth": 2
          },
          "yaxis": {
           "automargin": true,
           "gridcolor": "white",
           "linecolor": "white",
           "ticks": "",
           "title": {
            "standoff": 15
           },
           "zerolinecolor": "white",
           "zerolinewidth": 2
          }
         }
        }
       }
      }
     },
     "metadata": {},
     "output_type": "display_data"
    }
   ],
   "source": [
    "import src.utils.px_scatter_mapbox\n",
    "importlib.reload(src.utils.px_scatter_mapbox)\n",
    "from src.utils.px_scatter_mapbox import plot_map\n",
    "\n",
    "import plotly.express as px\n",
    "import plotly.graph_objects as go\n",
    "\n",
    "fig = go.Figure()\n",
    "fig.add_trace(\n",
    "    go.Scattermapbox(\n",
    "        lat=df['lat'],\n",
    "        lon=df['lon'],\n",
    "        marker=dict(\n",
    "            size=20\n",
    "        ),\n",
    "        mode='markers',\n",
    "        cluster=dict(enabled=True),\n",
    "    )\n",
    ")\n",
    "fig.update_layout(\n",
    "    mapbox=dict(\n",
    "        accesstoken=os.getenv('MAPBOX_TOKEN'),\n",
    "        center=dict(\n",
    "            lat=df['lat'].mean(),\n",
    "            lon=df['lon'].mean()\n",
    "        ),\n",
    "        zoom=3,\n",
    "    ),\n",
    "    margin=dict(l=0, r=0, t=0, b=0),\n",
    "    mapbox_style=\"dark\"\n",
    ")\n",
    "fig.show()"
   ]
  }
 ],
 "metadata": {
  "kernelspec": {
   "display_name": "venv_geolife",
   "language": "python",
   "name": "python3"
  },
  "language_info": {
   "codemirror_mode": {
    "name": "ipython",
    "version": 3
   },
   "file_extension": ".py",
   "mimetype": "text/x-python",
   "name": "python",
   "nbconvert_exporter": "python",
   "pygments_lexer": "ipython3",
   "version": "3.10.12"
  }
 },
 "nbformat": 4,
 "nbformat_minor": 2
}
