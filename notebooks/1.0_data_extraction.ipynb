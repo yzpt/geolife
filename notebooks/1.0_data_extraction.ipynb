{
 "cells": [
  {
   "cell_type": "markdown",
   "metadata": {},
   "source": [
    "# Data extraction from files"
   ]
  },
  {
   "cell_type": "code",
   "execution_count": 50,
   "metadata": {},
   "outputs": [],
   "source": [
    "import pandas as pd\n",
    "import os\n",
    "import sys\n",
    "from datetime import datetime,date\n",
    "import plotly.express as px\n",
    "\n",
    "project_path = '/home/yohann/projects/geolife'\n",
    "os.chdir(project_path)\n",
    "data_path = os.path.join(project_path, 'data')\n"
   ]
  },
  {
   "cell_type": "code",
   "execution_count": 51,
   "metadata": {},
   "outputs": [],
   "source": [
    "from dataclasses import dataclass\n",
    "from typing import List, Dict\n",
    "\n",
    "@dataclass\n",
    "class Record:\n",
    "    user_id: str\n",
    "    latitude: float\n",
    "    longitude: float\n",
    "    altitude: float\n",
    "    datetime: datetime\n",
    "    timestamp: float\n",
    "    label: str = None"
   ]
  },
  {
   "cell_type": "markdown",
   "metadata": {},
   "source": [
    "## Extracting records from a single file (=Trajectory)"
   ]
  },
  {
   "cell_type": "code",
   "execution_count": 52,
   "metadata": {},
   "outputs": [
    {
     "name": "stdout",
     "output_type": "stream",
     "text": [
      "    latitude   longitude  altitude            datetime     timestamp user_id  \\\n",
      "0  40.071500  116.314280       492 2008-05-12 01:27:05  1.210556e+09     170   \n",
      "1  40.071270  116.314442       492 2008-05-12 01:27:06  1.210556e+09     170   \n",
      "2  40.071345  116.314347       492 2008-05-12 01:27:07  1.210556e+09     170   \n",
      "3  40.071296  116.314351       493 2008-05-12 01:27:09  1.210556e+09     170   \n",
      "4  40.071192  116.314421       493 2008-05-12 01:27:11  1.210556e+09     170   \n",
      "\n",
      "  label  \n",
      "0  None  \n",
      "1  None  \n",
      "2  None  \n",
      "3  None  \n",
      "4  None  \n",
      "Features of the trajectory:\n",
      "Number of records: 991\n",
      "start_datetime: 2008-05-12 01:27:05\n",
      "end_datetime: 2008-05-12 01:55:35\n",
      "duration: 0 days 00:28:30\n"
     ]
    }
   ],
   "source": [
    "# filepath\n",
    "user_id = '170'\n",
    "user_path = os.path.join(data_path, user_id)\n",
    "records_files_paths = [os.path.join(user_path, 'Trajectory', file) for file in os.listdir(os.path.join(data_path, user_id, 'Trajectory')) if file.endswith('.plt')]\n",
    "file_path = records_files_paths[0]\n",
    "\n",
    "# read file and create dataframe\n",
    "plt_files_columns = ['latitude', 'longitude', 'zero', 'altitude', 'days', 'date', 'time']\n",
    "df = pd.read_csv(file_path, skiprows=6, header=None, names=plt_files_columns)\n",
    "df.drop(columns=['zero', 'days'], inplace=True)\n",
    "df['datetime'] = pd.to_datetime(df['date'] + ' ' + df['time'])\n",
    "df['timestamp'] = df['datetime'].apply(lambda x: x.timestamp())\n",
    "df.drop(columns=['date', 'time'], inplace=True)\n",
    "df['user_id'] = user_id\n",
    "df['label'] = None\n",
    "\n",
    "print(df.head())\n",
    "print(\"Features of the trajectory:\")\n",
    "print(f\"Number of records: {df.shape[0]}\")\n",
    "print(f\"start_datetime: {df['datetime'].min()}\")\n",
    "print(f\"end_datetime: {df['datetime'].max()}\")\n",
    "print(f\"duration: {df['datetime'].max() - df['datetime'].min()}\")"
   ]
  },
  {
   "cell_type": "code",
   "execution_count": 73,
   "metadata": {},
   "outputs": [],
   "source": [
    "@dataclass\n",
    "class Trajectory:\n",
    "    user_id: str\n",
    "    records: List[Record]\n",
    "    label: str = None\n",
    "    \n",
    "    @property\n",
    "    def count(self) -> int:\n",
    "        return len(self.records)\n",
    "    \n",
    "    @property\n",
    "    def start_datetime(self) -> datetime:\n",
    "        return min([record.datetime for record in self.records])\n",
    "    \n",
    "    @property\n",
    "    def end_datetime(self) -> datetime:\n",
    "        return max([record.datetime for record in self.records])\n",
    "    \n",
    "    @property\n",
    "    def duration(self) -> datetime:\n",
    "        return self.end_datetime - self.start_datetime\n",
    "    \n",
    "    @classmethod\n",
    "    def from_file(\n",
    "        cls: 'Trajectory',\n",
    "        file_path: str,\n",
    "        user_id: str,\n",
    "        label: str = None\n",
    "    ) -> 'Trajectory':\n",
    "        plt_files_columns = ['latitude', 'longitude', 'zero', 'altitude', 'days', 'date', 'time']\n",
    "        df = pd.read_csv(file_path, skiprows=6, header=None, names=plt_files_columns)\n",
    "        df.drop(columns=['zero', 'days'], inplace=True)\n",
    "        df['datetime'] = pd.to_datetime(df['date'] + ' ' + df['time'])\n",
    "        df['timestamp'] = df['datetime'].apply(lambda x: x.timestamp())\n",
    "        df.drop(columns=['date', 'time'], inplace=True)\n",
    "        df['user_id'] = user_id\n",
    "        df['label'] = label\n",
    "        records = [Record(**record) for record in df.to_dict(orient='records')]\n",
    "        return cls(user_id=user_id, records=records, label=label)\n",
    "    \n",
    "    @property\n",
    "    def df(self) -> pd.DataFrame:\n",
    "        return pd.DataFrame([record.__dict__ for record in self.records])\n",
    "    \n",
    "    @property\n",
    "    def features(self) -> Dict:\n",
    "        # list all property into an dict\n",
    "        return {\n",
    "            'user_id': self.user_id,\n",
    "            'count': self.count,\n",
    "            'start_datetime': self.start_datetime,\n",
    "            'end_datetime': self.end_datetime,\n",
    "            'duration': self.duration,\n",
    "            'label': self.label,\n",
    "        }"
   ]
  },
  {
   "cell_type": "code",
   "execution_count": 74,
   "metadata": {},
   "outputs": [
    {
     "data": {
      "text/plain": [
       "{'user_id': '170',\n",
       " 'count': 991,\n",
       " 'start_datetime': Timestamp('2008-05-12 01:27:05'),\n",
       " 'end_datetime': Timestamp('2008-05-12 01:55:35'),\n",
       " 'duration': Timedelta('0 days 00:28:30'),\n",
       " 'label': None}"
      ]
     },
     "execution_count": 74,
     "metadata": {},
     "output_type": "execute_result"
    }
   ],
   "source": [
    "trajectory = Trajectory.from_file(file_path, user_id)\n",
    "trajectory.features"
   ]
  },
  {
   "cell_type": "code",
   "execution_count": 81,
   "metadata": {},
   "outputs": [
    {
     "data": {
      "text/html": [
       "<div>\n",
       "<style scoped>\n",
       "    .dataframe tbody tr th:only-of-type {\n",
       "        vertical-align: middle;\n",
       "    }\n",
       "\n",
       "    .dataframe tbody tr th {\n",
       "        vertical-align: top;\n",
       "    }\n",
       "\n",
       "    .dataframe thead th {\n",
       "        text-align: right;\n",
       "    }\n",
       "</style>\n",
       "<table border=\"1\" class=\"dataframe\">\n",
       "  <thead>\n",
       "    <tr style=\"text-align: right;\">\n",
       "      <th></th>\n",
       "      <th>user_id</th>\n",
       "      <th>count</th>\n",
       "      <th>start_datetime</th>\n",
       "      <th>end_datetime</th>\n",
       "      <th>duration</th>\n",
       "      <th>label</th>\n",
       "    </tr>\n",
       "  </thead>\n",
       "  <tbody>\n",
       "    <tr>\n",
       "      <th>2</th>\n",
       "      <td>170</td>\n",
       "      <td>954</td>\n",
       "      <td>2008-04-28 11:27:04</td>\n",
       "      <td>2008-04-28 11:50:10</td>\n",
       "      <td>0 days 00:23:06</td>\n",
       "      <td>None</td>\n",
       "    </tr>\n",
       "    <tr>\n",
       "      <th>1</th>\n",
       "      <td>170</td>\n",
       "      <td>992</td>\n",
       "      <td>2008-04-29 01:38:05</td>\n",
       "      <td>2008-04-29 02:03:28</td>\n",
       "      <td>0 days 00:25:23</td>\n",
       "      <td>None</td>\n",
       "    </tr>\n",
       "    <tr>\n",
       "      <th>0</th>\n",
       "      <td>170</td>\n",
       "      <td>991</td>\n",
       "      <td>2008-05-12 01:27:05</td>\n",
       "      <td>2008-05-12 01:55:35</td>\n",
       "      <td>0 days 00:28:30</td>\n",
       "      <td>None</td>\n",
       "    </tr>\n",
       "    <tr>\n",
       "      <th>4</th>\n",
       "      <td>170</td>\n",
       "      <td>546</td>\n",
       "      <td>2008-05-14 01:56:23</td>\n",
       "      <td>2008-05-14 02:19:52</td>\n",
       "      <td>0 days 00:23:29</td>\n",
       "      <td>None</td>\n",
       "    </tr>\n",
       "    <tr>\n",
       "      <th>3</th>\n",
       "      <td>170</td>\n",
       "      <td>894</td>\n",
       "      <td>2008-05-21 01:33:29</td>\n",
       "      <td>2008-05-21 02:02:01</td>\n",
       "      <td>0 days 00:28:32</td>\n",
       "      <td>None</td>\n",
       "    </tr>\n",
       "  </tbody>\n",
       "</table>\n",
       "</div>"
      ],
      "text/plain": [
       "  user_id  count      start_datetime        end_datetime        duration label\n",
       "2     170    954 2008-04-28 11:27:04 2008-04-28 11:50:10 0 days 00:23:06  None\n",
       "1     170    992 2008-04-29 01:38:05 2008-04-29 02:03:28 0 days 00:25:23  None\n",
       "0     170    991 2008-05-12 01:27:05 2008-05-12 01:55:35 0 days 00:28:30  None\n",
       "4     170    546 2008-05-14 01:56:23 2008-05-14 02:19:52 0 days 00:23:29  None\n",
       "3     170    894 2008-05-21 01:33:29 2008-05-21 02:02:01 0 days 00:28:32  None"
      ]
     },
     "execution_count": 81,
     "metadata": {},
     "output_type": "execute_result"
    }
   ],
   "source": [
    "# list the trajectories from a single user\n",
    "\n",
    "trajectories = []\n",
    "for file in records_files_paths:\n",
    "    trajectory = Trajectory.from_file(file, user_id)\n",
    "    trajectories.append(trajectory)\n",
    "    \n",
    "trajectories_df = pd.DataFrame([trajectory.features for trajectory in trajectories])\n",
    "trajectories_df.sort_values(by='start_datetime', inplace=True)\n",
    "trajectories_df.head()\n",
    "    "
   ]
  },
  {
   "cell_type": "code",
   "execution_count": 82,
   "metadata": {},
   "outputs": [],
   "source": [
    "@dataclass\n",
    "class Trajectories:\n",
    "    trajectories: List[Trajectory]\n",
    "    \n",
    "    @property\n",
    "    def df(self) -> pd.DataFrame:\n",
    "        return pd.concat([trajectory.df for trajectory in self.trajectories])\n",
    "    \n",
    "    @property\n",
    "    def features(self) -> pd.DataFrame:\n",
    "        df = pd.DataFrame([trajectory.features for trajectory in self.trajectories])\n",
    "        df.sort_values(by='start_datetime', inplace=True)\n",
    "        return df\n",
    "    \n",
    "    @classmethod\n",
    "    def from_files(\n",
    "        cls: 'Trajectories',\n",
    "        files_paths: List[str], \n",
    "        user_id: str\n",
    "    ) -> 'Trajectories':\n",
    "        trajectories = [Trajectory.from_file(file_path, user_id) for file_path in files_paths]\n",
    "        return cls(trajectories=trajectories)"
   ]
  },
  {
   "cell_type": "code",
   "execution_count": 83,
   "metadata": {},
   "outputs": [
    {
     "data": {
      "text/html": [
       "<div>\n",
       "<style scoped>\n",
       "    .dataframe tbody tr th:only-of-type {\n",
       "        vertical-align: middle;\n",
       "    }\n",
       "\n",
       "    .dataframe tbody tr th {\n",
       "        vertical-align: top;\n",
       "    }\n",
       "\n",
       "    .dataframe thead th {\n",
       "        text-align: right;\n",
       "    }\n",
       "</style>\n",
       "<table border=\"1\" class=\"dataframe\">\n",
       "  <thead>\n",
       "    <tr style=\"text-align: right;\">\n",
       "      <th></th>\n",
       "      <th>user_id</th>\n",
       "      <th>count</th>\n",
       "      <th>start_datetime</th>\n",
       "      <th>end_datetime</th>\n",
       "      <th>duration</th>\n",
       "      <th>label</th>\n",
       "    </tr>\n",
       "  </thead>\n",
       "  <tbody>\n",
       "    <tr>\n",
       "      <th>2</th>\n",
       "      <td>170</td>\n",
       "      <td>954</td>\n",
       "      <td>2008-04-28 11:27:04</td>\n",
       "      <td>2008-04-28 11:50:10</td>\n",
       "      <td>0 days 00:23:06</td>\n",
       "      <td>None</td>\n",
       "    </tr>\n",
       "    <tr>\n",
       "      <th>1</th>\n",
       "      <td>170</td>\n",
       "      <td>992</td>\n",
       "      <td>2008-04-29 01:38:05</td>\n",
       "      <td>2008-04-29 02:03:28</td>\n",
       "      <td>0 days 00:25:23</td>\n",
       "      <td>None</td>\n",
       "    </tr>\n",
       "    <tr>\n",
       "      <th>0</th>\n",
       "      <td>170</td>\n",
       "      <td>991</td>\n",
       "      <td>2008-05-12 01:27:05</td>\n",
       "      <td>2008-05-12 01:55:35</td>\n",
       "      <td>0 days 00:28:30</td>\n",
       "      <td>None</td>\n",
       "    </tr>\n",
       "    <tr>\n",
       "      <th>4</th>\n",
       "      <td>170</td>\n",
       "      <td>546</td>\n",
       "      <td>2008-05-14 01:56:23</td>\n",
       "      <td>2008-05-14 02:19:52</td>\n",
       "      <td>0 days 00:23:29</td>\n",
       "      <td>None</td>\n",
       "    </tr>\n",
       "    <tr>\n",
       "      <th>3</th>\n",
       "      <td>170</td>\n",
       "      <td>894</td>\n",
       "      <td>2008-05-21 01:33:29</td>\n",
       "      <td>2008-05-21 02:02:01</td>\n",
       "      <td>0 days 00:28:32</td>\n",
       "      <td>None</td>\n",
       "    </tr>\n",
       "  </tbody>\n",
       "</table>\n",
       "</div>"
      ],
      "text/plain": [
       "  user_id  count      start_datetime        end_datetime        duration label\n",
       "2     170    954 2008-04-28 11:27:04 2008-04-28 11:50:10 0 days 00:23:06  None\n",
       "1     170    992 2008-04-29 01:38:05 2008-04-29 02:03:28 0 days 00:25:23  None\n",
       "0     170    991 2008-05-12 01:27:05 2008-05-12 01:55:35 0 days 00:28:30  None\n",
       "4     170    546 2008-05-14 01:56:23 2008-05-14 02:19:52 0 days 00:23:29  None\n",
       "3     170    894 2008-05-21 01:33:29 2008-05-21 02:02:01 0 days 00:28:32  None"
      ]
     },
     "execution_count": 83,
     "metadata": {},
     "output_type": "execute_result"
    }
   ],
   "source": [
    "trajectories = Trajectories.from_files(records_files_paths, user_id)\n",
    "trajectories.features"
   ]
  },
  {
   "cell_type": "markdown",
   "metadata": {},
   "source": [
    "## Extracting labels (if exists) for a user (user_id='170')"
   ]
  },
  {
   "cell_type": "code",
   "execution_count": 85,
   "metadata": {},
   "outputs": [
    {
     "data": {
      "text/html": [
       "<div>\n",
       "<style scoped>\n",
       "    .dataframe tbody tr th:only-of-type {\n",
       "        vertical-align: middle;\n",
       "    }\n",
       "\n",
       "    .dataframe tbody tr th {\n",
       "        vertical-align: top;\n",
       "    }\n",
       "\n",
       "    .dataframe thead th {\n",
       "        text-align: right;\n",
       "    }\n",
       "</style>\n",
       "<table border=\"1\" class=\"dataframe\">\n",
       "  <thead>\n",
       "    <tr style=\"text-align: right;\">\n",
       "      <th></th>\n",
       "      <th>start_datetime</th>\n",
       "      <th>end_datetime</th>\n",
       "      <th>mode</th>\n",
       "    </tr>\n",
       "  </thead>\n",
       "  <tbody>\n",
       "    <tr>\n",
       "      <th>0</th>\n",
       "      <td>2008-04-28 11:27:42</td>\n",
       "      <td>2008-04-28 11:27:58</td>\n",
       "      <td>walk</td>\n",
       "    </tr>\n",
       "    <tr>\n",
       "      <th>0</th>\n",
       "      <td>2008-04-28 11:28:00</td>\n",
       "      <td>2008-04-28 11:42:54</td>\n",
       "      <td>subway</td>\n",
       "    </tr>\n",
       "    <tr>\n",
       "      <th>0</th>\n",
       "      <td>2008-04-28 11:42:56</td>\n",
       "      <td>2008-04-28 11:50:10</td>\n",
       "      <td>walk</td>\n",
       "    </tr>\n",
       "    <tr>\n",
       "      <th>0</th>\n",
       "      <td>2008-04-29 01:38:21</td>\n",
       "      <td>2008-04-29 01:41:28</td>\n",
       "      <td>walk</td>\n",
       "    </tr>\n",
       "    <tr>\n",
       "      <th>0</th>\n",
       "      <td>2008-04-29 01:41:30</td>\n",
       "      <td>2008-04-29 01:57:53</td>\n",
       "      <td>subway</td>\n",
       "    </tr>\n",
       "  </tbody>\n",
       "</table>\n",
       "</div>"
      ],
      "text/plain": [
       "       start_datetime        end_datetime    mode\n",
       "0 2008-04-28 11:27:42 2008-04-28 11:27:58    walk\n",
       "0 2008-04-28 11:28:00 2008-04-28 11:42:54  subway\n",
       "0 2008-04-28 11:42:56 2008-04-28 11:50:10    walk\n",
       "0 2008-04-29 01:38:21 2008-04-29 01:41:28    walk\n",
       "0 2008-04-29 01:41:30 2008-04-29 01:57:53  subway"
      ]
     },
     "execution_count": 85,
     "metadata": {},
     "output_type": "execute_result"
    }
   ],
   "source": [
    "if 'labels.txt' in os.listdir(user_path):\n",
    "    df_labels = pd.DataFrame(columns=['start_datetime', 'end_datetime', 'mode'])\n",
    "    with open(user_path + '/labels.txt') as f:\n",
    "        for line in f:\n",
    "            if 'Time' in line:\n",
    "                continue\n",
    "            start_datetime, end_datetime, mode = line.split('\\t')\n",
    "            mode = mode.replace('\\n', '')\n",
    "            df_labels = pd.concat([df_labels, pd.DataFrame({'start_datetime': [start_datetime], 'end_datetime': [end_datetime], 'mode': [mode]})])\n",
    "    df_labels['start_datetime'] = pd.to_datetime(df_labels['start_datetime'])\n",
    "    df_labels['end_datetime'] = pd.to_datetime(df_labels['end_datetime'])\n",
    "    \n",
    "df_labels.head()"
   ]
  },
  {
   "cell_type": "code",
   "execution_count": null,
   "metadata": {},
   "outputs": [],
   "source": [
    "@dataclass\n"
   ]
  },
  {
   "cell_type": "code",
   "execution_count": 20,
   "metadata": {},
   "outputs": [],
   "source": [
    "def plot_trajectory(\n",
    "    df: pd.DataFrame,\n",
    "    ) -> px.scatter_mapbox:\n",
    "    df['text'] = df['datetime'].dt.strftime('%H:%M')\n",
    "    fig = px.scatter_mapbox(\n",
    "        df, \n",
    "        lat=\"latitude\", \n",
    "        lon=\"longitude\", \n",
    "        hover_data=['altitude', 'datetime'], \n",
    "        color='altitude',\n",
    "        zoom=10,\n",
    "        template=\"plotly_dark\",\n",
    "        text='text',\n",
    "        )\n",
    "    fig.update_layout(\n",
    "        margin={\"r\":0,\"t\":0,\"l\":0,\"b\":0},\n",
    "        mapbox_style='carto-darkmatter',\n",
    "        )\n",
    "    return fig"
   ]
  },
  {
   "cell_type": "code",
   "execution_count": 9,
   "metadata": {},
   "outputs": [
    {
     "data": {
      "application/vnd.plotly.v1+json": {
       "config": {
        "plotlyServerURL": "https://plot.ly"
       },
       "data": [
        {
         "customdata": [
          [
           488,
           "2008-05-14T01:56:23"
          ],
          [
           1192,
           "2008-05-14T01:58:05"
          ],
          [
           1169,
           "2008-05-14T01:58:07"
          ],
          [
           1159,
           "2008-05-14T01:58:09"
          ],
          [
           1154,
           "2008-05-14T01:58:11"
          ],
          [
           1154,
           "2008-05-14T01:58:13"
          ],
          [
           1133,
           "2008-05-14T01:58:15"
          ],
          [
           1113,
           "2008-05-14T01:58:17"
          ],
          [
           1094,
           "2008-05-14T01:58:19"
          ],
          [
           1076,
           "2008-05-14T01:58:21"
          ],
          [
           1058,
           "2008-05-14T01:58:23"
          ],
          [
           1041,
           "2008-05-14T01:58:25"
          ],
          [
           1024,
           "2008-05-14T01:58:27"
          ],
          [
           1009,
           "2008-05-14T01:58:29"
          ],
          [
           997,
           "2008-05-14T01:58:31"
          ],
          [
           989,
           "2008-05-14T01:58:33"
          ],
          [
           989,
           "2008-05-14T01:58:35"
          ],
          [
           988,
           "2008-05-14T01:58:37"
          ],
          [
           974,
           "2008-05-14T01:58:39"
          ],
          [
           961,
           "2008-05-14T01:58:41"
          ],
          [
           948,
           "2008-05-14T01:58:43"
          ],
          [
           935,
           "2008-05-14T01:58:45"
          ],
          [
           922,
           "2008-05-14T01:58:47"
          ],
          [
           910,
           "2008-05-14T01:58:49"
          ],
          [
           899,
           "2008-05-14T01:58:51"
          ],
          [
           888,
           "2008-05-14T01:58:53"
          ],
          [
           877,
           "2008-05-14T01:58:55"
          ],
          [
           872,
           "2008-05-14T01:58:56"
          ],
          [
           867,
           "2008-05-14T01:58:57"
          ],
          [
           862,
           "2008-05-14T01:58:58"
          ],
          [
           857,
           "2008-05-14T01:58:59"
          ],
          [
           857,
           "2008-05-14T01:59:00"
          ],
          [
           857,
           "2008-05-14T01:59:01"
          ],
          [
           858,
           "2008-05-14T01:59:02"
          ],
          [
           271,
           "2008-05-14T02:04:51"
          ],
          [
           238,
           "2008-05-14T02:04:52"
          ],
          [
           216,
           "2008-05-14T02:04:53"
          ],
          [
           203,
           "2008-05-14T02:04:54"
          ],
          [
           196,
           "2008-05-14T02:04:55"
          ],
          [
           190,
           "2008-05-14T02:04:56"
          ],
          [
           186,
           "2008-05-14T02:04:57"
          ],
          [
           184,
           "2008-05-14T02:04:58"
          ],
          [
           181,
           "2008-05-14T02:04:59"
          ],
          [
           180,
           "2008-05-14T02:05:00"
          ],
          [
           179,
           "2008-05-14T02:05:01"
          ],
          [
           178,
           "2008-05-14T02:05:02"
          ],
          [
           178,
           "2008-05-14T02:05:03"
          ],
          [
           177,
           "2008-05-14T02:05:04"
          ],
          [
           177,
           "2008-05-14T02:05:05"
          ],
          [
           177,
           "2008-05-14T02:05:06"
          ],
          [
           177,
           "2008-05-14T02:05:07"
          ],
          [
           177,
           "2008-05-14T02:05:08"
          ],
          [
           177,
           "2008-05-14T02:05:09"
          ],
          [
           177,
           "2008-05-14T02:05:10"
          ],
          [
           178,
           "2008-05-14T02:05:11"
          ],
          [
           178,
           "2008-05-14T02:05:12"
          ],
          [
           179,
           "2008-05-14T02:05:13"
          ],
          [
           179,
           "2008-05-14T02:05:14"
          ],
          [
           180,
           "2008-05-14T02:05:15"
          ],
          [
           180,
           "2008-05-14T02:05:16"
          ],
          [
           181,
           "2008-05-14T02:05:17"
          ],
          [
           181,
           "2008-05-14T02:05:18"
          ],
          [
           182,
           "2008-05-14T02:05:19"
          ],
          [
           182,
           "2008-05-14T02:05:20"
          ],
          [
           183,
           "2008-05-14T02:05:21"
          ],
          [
           183,
           "2008-05-14T02:05:22"
          ],
          [
           184,
           "2008-05-14T02:05:23"
          ],
          [
           184,
           "2008-05-14T02:05:24"
          ],
          [
           185,
           "2008-05-14T02:05:25"
          ],
          [
           185,
           "2008-05-14T02:05:26"
          ],
          [
           186,
           "2008-05-14T02:05:27"
          ],
          [
           186,
           "2008-05-14T02:05:28"
          ],
          [
           187,
           "2008-05-14T02:05:29"
          ],
          [
           177,
           "2008-05-14T02:06:01"
          ],
          [
           180,
           "2008-05-14T02:06:02"
          ],
          [
           182,
           "2008-05-14T02:06:03"
          ],
          [
           184,
           "2008-05-14T02:06:04"
          ],
          [
           186,
           "2008-05-14T02:06:05"
          ],
          [
           187,
           "2008-05-14T02:06:06"
          ],
          [
           188,
           "2008-05-14T02:06:07"
          ],
          [
           190,
           "2008-05-14T02:06:08"
          ],
          [
           193,
           "2008-05-14T02:06:09"
          ],
          [
           195,
           "2008-05-14T02:06:10"
          ],
          [
           198,
           "2008-05-14T02:06:11"
          ],
          [
           200,
           "2008-05-14T02:06:12"
          ],
          [
           201,
           "2008-05-14T02:06:13"
          ],
          [
           203,
           "2008-05-14T02:06:14"
          ],
          [
           204,
           "2008-05-14T02:06:15"
          ],
          [
           205,
           "2008-05-14T02:06:16"
          ],
          [
           206,
           "2008-05-14T02:06:17"
          ],
          [
           206,
           "2008-05-14T02:06:18"
          ],
          [
           207,
           "2008-05-14T02:06:19"
          ],
          [
           208,
           "2008-05-14T02:06:20"
          ],
          [
           209,
           "2008-05-14T02:06:21"
          ],
          [
           210,
           "2008-05-14T02:06:22"
          ],
          [
           211,
           "2008-05-14T02:06:23"
          ],
          [
           212,
           "2008-05-14T02:06:24"
          ],
          [
           183,
           "2008-05-14T02:07:42"
          ],
          [
           174,
           "2008-05-14T02:07:44"
          ],
          [
           172,
           "2008-05-14T02:07:45"
          ],
          [
           169,
           "2008-05-14T02:07:46"
          ],
          [
           166,
           "2008-05-14T02:07:47"
          ],
          [
           164,
           "2008-05-14T02:07:48"
          ],
          [
           163,
           "2008-05-14T02:07:49"
          ],
          [
           162,
           "2008-05-14T02:07:50"
          ],
          [
           161,
           "2008-05-14T02:07:51"
          ],
          [
           162,
           "2008-05-14T02:07:52"
          ],
          [
           163,
           "2008-05-14T02:07:53"
          ],
          [
           165,
           "2008-05-14T02:07:54"
          ],
          [
           165,
           "2008-05-14T02:07:55"
          ],
          [
           166,
           "2008-05-14T02:07:56"
          ],
          [
           167,
           "2008-05-14T02:07:57"
          ],
          [
           168,
           "2008-05-14T02:07:58"
          ],
          [
           169,
           "2008-05-14T02:07:59"
          ],
          [
           170,
           "2008-05-14T02:08:00"
          ],
          [
           170,
           "2008-05-14T02:08:01"
          ],
          [
           172,
           "2008-05-14T02:08:02"
          ],
          [
           173,
           "2008-05-14T02:08:03"
          ],
          [
           173,
           "2008-05-14T02:08:04"
          ],
          [
           175,
           "2008-05-14T02:08:05"
          ],
          [
           176,
           "2008-05-14T02:08:06"
          ],
          [
           178,
           "2008-05-14T02:08:07"
          ],
          [
           179,
           "2008-05-14T02:08:08"
          ],
          [
           181,
           "2008-05-14T02:08:09"
          ],
          [
           182,
           "2008-05-14T02:08:10"
          ],
          [
           183,
           "2008-05-14T02:08:11"
          ],
          [
           185,
           "2008-05-14T02:08:12"
          ],
          [
           186,
           "2008-05-14T02:08:13"
          ],
          [
           188,
           "2008-05-14T02:08:14"
          ],
          [
           190,
           "2008-05-14T02:08:15"
          ],
          [
           191,
           "2008-05-14T02:08:16"
          ],
          [
           193,
           "2008-05-14T02:08:17"
          ],
          [
           194,
           "2008-05-14T02:08:18"
          ],
          [
           196,
           "2008-05-14T02:08:19"
          ],
          [
           198,
           "2008-05-14T02:08:20"
          ],
          [
           200,
           "2008-05-14T02:08:21"
          ],
          [
           201,
           "2008-05-14T02:08:22"
          ],
          [
           203,
           "2008-05-14T02:08:23"
          ],
          [
           205,
           "2008-05-14T02:08:24"
          ],
          [
           206,
           "2008-05-14T02:08:25"
          ],
          [
           208,
           "2008-05-14T02:08:26"
          ],
          [
           209,
           "2008-05-14T02:08:27"
          ],
          [
           211,
           "2008-05-14T02:08:28"
          ],
          [
           213,
           "2008-05-14T02:08:29"
          ],
          [
           215,
           "2008-05-14T02:08:30"
          ],
          [
           217,
           "2008-05-14T02:08:31"
          ],
          [
           220,
           "2008-05-14T02:08:32"
          ],
          [
           222,
           "2008-05-14T02:08:33"
          ],
          [
           224,
           "2008-05-14T02:08:34"
          ],
          [
           226,
           "2008-05-14T02:08:35"
          ],
          [
           229,
           "2008-05-14T02:08:36"
          ],
          [
           231,
           "2008-05-14T02:08:37"
          ],
          [
           233,
           "2008-05-14T02:08:38"
          ],
          [
           236,
           "2008-05-14T02:08:39"
          ],
          [
           238,
           "2008-05-14T02:08:40"
          ],
          [
           240,
           "2008-05-14T02:08:41"
          ],
          [
           243,
           "2008-05-14T02:08:42"
          ],
          [
           245,
           "2008-05-14T02:08:43"
          ],
          [
           247,
           "2008-05-14T02:08:44"
          ],
          [
           259,
           "2008-05-14T02:08:45"
          ],
          [
           269,
           "2008-05-14T02:08:46"
          ],
          [
           281,
           "2008-05-14T02:08:47"
          ],
          [
           290,
           "2008-05-14T02:08:48"
          ],
          [
           295,
           "2008-05-14T02:08:49"
          ],
          [
           300,
           "2008-05-14T02:08:50"
          ],
          [
           305,
           "2008-05-14T02:08:51"
          ],
          [
           309,
           "2008-05-14T02:08:52"
          ],
          [
           314,
           "2008-05-14T02:08:53"
          ],
          [
           318,
           "2008-05-14T02:08:54"
          ],
          [
           323,
           "2008-05-14T02:08:55"
          ],
          [
           327,
           "2008-05-14T02:08:56"
          ],
          [
           331,
           "2008-05-14T02:08:57"
          ],
          [
           337,
           "2008-05-14T02:08:58"
          ],
          [
           339,
           "2008-05-14T02:08:59"
          ],
          [
           343,
           "2008-05-14T02:09:00"
          ],
          [
           344,
           "2008-05-14T02:09:01"
          ],
          [
           347,
           "2008-05-14T02:09:02"
          ],
          [
           350,
           "2008-05-14T02:09:03"
          ],
          [
           354,
           "2008-05-14T02:09:04"
          ],
          [
           359,
           "2008-05-14T02:09:05"
          ],
          [
           364,
           "2008-05-14T02:09:06"
          ],
          [
           368,
           "2008-05-14T02:09:07"
          ],
          [
           373,
           "2008-05-14T02:09:08"
          ],
          [
           379,
           "2008-05-14T02:09:09"
          ],
          [
           385,
           "2008-05-14T02:09:10"
          ],
          [
           390,
           "2008-05-14T02:09:11"
          ],
          [
           391,
           "2008-05-14T02:09:12"
          ],
          [
           397,
           "2008-05-14T02:09:13"
          ],
          [
           404,
           "2008-05-14T02:09:14"
          ],
          [
           410,
           "2008-05-14T02:09:15"
          ],
          [
           416,
           "2008-05-14T02:09:16"
          ],
          [
           417,
           "2008-05-14T02:09:17"
          ],
          [
           422,
           "2008-05-14T02:09:18"
          ],
          [
           422,
           "2008-05-14T02:09:19"
          ],
          [
           426,
           "2008-05-14T02:09:20"
          ],
          [
           430,
           "2008-05-14T02:09:21"
          ],
          [
           436,
           "2008-05-14T02:09:22"
          ],
          [
           442,
           "2008-05-14T02:09:23"
          ],
          [
           443,
           "2008-05-14T02:09:24"
          ],
          [
           445,
           "2008-05-14T02:09:25"
          ],
          [
           447,
           "2008-05-14T02:09:26"
          ],
          [
           445,
           "2008-05-14T02:09:27"
          ],
          [
           446,
           "2008-05-14T02:09:28"
          ],
          [
           449,
           "2008-05-14T02:09:29"
          ],
          [
           451,
           "2008-05-14T02:09:30"
          ],
          [
           455,
           "2008-05-14T02:09:31"
          ],
          [
           459,
           "2008-05-14T02:09:32"
          ],
          [
           463,
           "2008-05-14T02:09:33"
          ],
          [
           465,
           "2008-05-14T02:09:34"
          ],
          [
           466,
           "2008-05-14T02:09:35"
          ],
          [
           467,
           "2008-05-14T02:09:36"
          ],
          [
           468,
           "2008-05-14T02:09:37"
          ],
          [
           470,
           "2008-05-14T02:09:38"
          ],
          [
           471,
           "2008-05-14T02:09:39"
          ],
          [
           471,
           "2008-05-14T02:09:40"
          ],
          [
           470,
           "2008-05-14T02:09:42"
          ],
          [
           470,
           "2008-05-14T02:09:43"
          ],
          [
           471,
           "2008-05-14T02:09:44"
          ],
          [
           472,
           "2008-05-14T02:09:45"
          ],
          [
           472,
           "2008-05-14T02:09:46"
          ],
          [
           473,
           "2008-05-14T02:09:47"
          ],
          [
           474,
           "2008-05-14T02:09:48"
          ],
          [
           474,
           "2008-05-14T02:09:49"
          ],
          [
           475,
           "2008-05-14T02:09:50"
          ],
          [
           476,
           "2008-05-14T02:09:51"
          ],
          [
           477,
           "2008-05-14T02:09:52"
          ],
          [
           478,
           "2008-05-14T02:09:53"
          ],
          [
           479,
           "2008-05-14T02:09:54"
          ],
          [
           480,
           "2008-05-14T02:09:55"
          ],
          [
           482,
           "2008-05-14T02:09:56"
          ],
          [
           483,
           "2008-05-14T02:09:57"
          ],
          [
           484,
           "2008-05-14T02:09:58"
          ],
          [
           486,
           "2008-05-14T02:09:59"
          ],
          [
           487,
           "2008-05-14T02:10:00"
          ],
          [
           489,
           "2008-05-14T02:10:01"
          ],
          [
           490,
           "2008-05-14T02:10:02"
          ],
          [
           492,
           "2008-05-14T02:10:03"
          ],
          [
           495,
           "2008-05-14T02:10:04"
          ],
          [
           497,
           "2008-05-14T02:10:05"
          ],
          [
           498,
           "2008-05-14T02:10:06"
          ],
          [
           500,
           "2008-05-14T02:10:07"
          ],
          [
           501,
           "2008-05-14T02:10:08"
          ],
          [
           503,
           "2008-05-14T02:10:09"
          ],
          [
           504,
           "2008-05-14T02:10:10"
          ],
          [
           505,
           "2008-05-14T02:10:11"
          ],
          [
           507,
           "2008-05-14T02:10:12"
          ],
          [
           508,
           "2008-05-14T02:10:13"
          ],
          [
           510,
           "2008-05-14T02:10:14"
          ],
          [
           513,
           "2008-05-14T02:10:15"
          ],
          [
           515,
           "2008-05-14T02:10:16"
          ],
          [
           516,
           "2008-05-14T02:10:17"
          ],
          [
           518,
           "2008-05-14T02:10:18"
          ],
          [
           520,
           "2008-05-14T02:10:19"
          ],
          [
           522,
           "2008-05-14T02:10:20"
          ],
          [
           524,
           "2008-05-14T02:10:21"
          ],
          [
           526,
           "2008-05-14T02:10:22"
          ],
          [
           528,
           "2008-05-14T02:10:23"
          ],
          [
           530,
           "2008-05-14T02:10:24"
          ],
          [
           534,
           "2008-05-14T02:10:25"
          ],
          [
           536,
           "2008-05-14T02:10:26"
          ],
          [
           538,
           "2008-05-14T02:10:27"
          ],
          [
           541,
           "2008-05-14T02:10:28"
          ],
          [
           540,
           "2008-05-14T02:10:29"
          ],
          [
           541,
           "2008-05-14T02:10:30"
          ],
          [
           543,
           "2008-05-14T02:10:31"
          ],
          [
           547,
           "2008-05-14T02:10:32"
          ],
          [
           551,
           "2008-05-14T02:10:33"
          ],
          [
           553,
           "2008-05-14T02:10:34"
          ],
          [
           555,
           "2008-05-14T02:10:35"
          ],
          [
           557,
           "2008-05-14T02:10:36"
          ],
          [
           558,
           "2008-05-14T02:10:37"
          ],
          [
           558,
           "2008-05-14T02:10:38"
          ],
          [
           559,
           "2008-05-14T02:10:39"
          ],
          [
           561,
           "2008-05-14T02:10:40"
          ],
          [
           562,
           "2008-05-14T02:10:42"
          ],
          [
           564,
           "2008-05-14T02:10:44"
          ],
          [
           568,
           "2008-05-14T02:10:45"
          ],
          [
           571,
           "2008-05-14T02:10:46"
          ],
          [
           573,
           "2008-05-14T02:10:47"
          ],
          [
           579,
           "2008-05-14T02:10:49"
          ],
          [
           577,
           "2008-05-14T02:10:50"
          ],
          [
           579,
           "2008-05-14T02:10:51"
          ],
          [
           582,
           "2008-05-14T02:10:52"
          ],
          [
           575,
           "2008-05-14T02:10:53"
          ],
          [
           579,
           "2008-05-14T02:10:54"
          ],
          [
           582,
           "2008-05-14T02:10:55"
          ],
          [
           586,
           "2008-05-14T02:10:56"
          ],
          [
           572,
           "2008-05-14T02:10:57"
          ],
          [
           576,
           "2008-05-14T02:10:58"
          ],
          [
           578,
           "2008-05-14T02:10:59"
          ],
          [
           581,
           "2008-05-14T02:11:00"
          ],
          [
           584,
           "2008-05-14T02:11:01"
          ],
          [
           587,
           "2008-05-14T02:11:02"
          ],
          [
           591,
           "2008-05-14T02:11:03"
          ],
          [
           594,
           "2008-05-14T02:11:04"
          ],
          [
           598,
           "2008-05-14T02:11:05"
          ],
          [
           596,
           "2008-05-14T02:11:06"
          ],
          [
           598,
           "2008-05-14T02:11:07"
          ],
          [
           601,
           "2008-05-14T02:11:08"
          ],
          [
           604,
           "2008-05-14T02:11:09"
          ],
          [
           607,
           "2008-05-14T02:11:10"
          ],
          [
           610,
           "2008-05-14T02:11:11"
          ],
          [
           614,
           "2008-05-14T02:11:12"
          ],
          [
           617,
           "2008-05-14T02:11:13"
          ],
          [
           621,
           "2008-05-14T02:11:14"
          ],
          [
           624,
           "2008-05-14T02:11:15"
          ],
          [
           627,
           "2008-05-14T02:11:16"
          ],
          [
           631,
           "2008-05-14T02:11:17"
          ],
          [
           634,
           "2008-05-14T02:11:18"
          ],
          [
           637,
           "2008-05-14T02:11:19"
          ],
          [
           641,
           "2008-05-14T02:11:20"
          ],
          [
           644,
           "2008-05-14T02:11:21"
          ],
          [
           647,
           "2008-05-14T02:11:22"
          ],
          [
           650,
           "2008-05-14T02:11:23"
          ],
          [
           652,
           "2008-05-14T02:11:24"
          ],
          [
           654,
           "2008-05-14T02:11:25"
          ],
          [
           656,
           "2008-05-14T02:11:26"
          ],
          [
           657,
           "2008-05-14T02:11:27"
          ],
          [
           658,
           "2008-05-14T02:11:28"
          ],
          [
           659,
           "2008-05-14T02:11:29"
          ],
          [
           660,
           "2008-05-14T02:11:30"
          ],
          [
           662,
           "2008-05-14T02:11:31"
          ],
          [
           663,
           "2008-05-14T02:11:32"
          ],
          [
           664,
           "2008-05-14T02:11:33"
          ],
          [
           665,
           "2008-05-14T02:11:34"
          ],
          [
           666,
           "2008-05-14T02:11:35"
          ],
          [
           667,
           "2008-05-14T02:11:36"
          ],
          [
           668,
           "2008-05-14T02:11:37"
          ],
          [
           669,
           "2008-05-14T02:11:38"
          ],
          [
           670,
           "2008-05-14T02:11:39"
          ],
          [
           671,
           "2008-05-14T02:11:40"
          ],
          [
           673,
           "2008-05-14T02:11:41"
          ],
          [
           674,
           "2008-05-14T02:11:42"
          ],
          [
           675,
           "2008-05-14T02:11:43"
          ],
          [
           670,
           "2008-05-14T02:11:44"
          ],
          [
           665,
           "2008-05-14T02:11:45"
          ],
          [
           660,
           "2008-05-14T02:11:46"
          ],
          [
           656,
           "2008-05-14T02:11:47"
          ],
          [
           653,
           "2008-05-14T02:11:48"
          ],
          [
           650,
           "2008-05-14T02:11:49"
          ],
          [
           647,
           "2008-05-14T02:11:50"
          ],
          [
           640,
           "2008-05-14T02:11:51"
          ],
          [
           635,
           "2008-05-14T02:11:52"
          ],
          [
           634,
           "2008-05-14T02:11:53"
          ],
          [
           632,
           "2008-05-14T02:11:54"
          ],
          [
           628,
           "2008-05-14T02:11:55"
          ],
          [
           627,
           "2008-05-14T02:11:56"
          ],
          [
           623,
           "2008-05-14T02:11:57"
          ],
          [
           619,
           "2008-05-14T02:11:58"
          ],
          [
           614,
           "2008-05-14T02:11:59"
          ],
          [
           611,
           "2008-05-14T02:12:00"
          ],
          [
           609,
           "2008-05-14T02:12:01"
          ],
          [
           610,
           "2008-05-14T02:12:02"
          ],
          [
           611,
           "2008-05-14T02:12:03"
          ],
          [
           612,
           "2008-05-14T02:12:04"
          ],
          [
           607,
           "2008-05-14T02:12:05"
          ],
          [
           608,
           "2008-05-14T02:12:06"
          ],
          [
           609,
           "2008-05-14T02:12:07"
          ],
          [
           610,
           "2008-05-14T02:12:08"
          ],
          [
           610,
           "2008-05-14T02:12:09"
          ],
          [
           609,
           "2008-05-14T02:12:10"
          ],
          [
           609,
           "2008-05-14T02:12:11"
          ],
          [
           584,
           "2008-05-14T02:12:13"
          ],
          [
           581,
           "2008-05-14T02:12:14"
          ],
          [
           577,
           "2008-05-14T02:12:15"
          ],
          [
           578,
           "2008-05-14T02:12:16"
          ],
          [
           580,
           "2008-05-14T02:12:17"
          ],
          [
           580,
           "2008-05-14T02:12:18"
          ],
          [
           579,
           "2008-05-14T02:12:19"
          ],
          [
           580,
           "2008-05-14T02:12:21"
          ],
          [
           580,
           "2008-05-14T02:12:23"
          ],
          [
           583,
           "2008-05-14T02:12:25"
          ],
          [
           588,
           "2008-05-14T02:12:27"
          ],
          [
           592,
           "2008-05-14T02:12:29"
          ],
          [
           597,
           "2008-05-14T02:12:31"
          ],
          [
           601,
           "2008-05-14T02:12:33"
          ],
          [
           606,
           "2008-05-14T02:12:35"
          ],
          [
           611,
           "2008-05-14T02:12:37"
          ],
          [
           617,
           "2008-05-14T02:12:39"
          ],
          [
           620,
           "2008-05-14T02:12:41"
          ],
          [
           627,
           "2008-05-14T02:12:43"
          ],
          [
           633,
           "2008-05-14T02:12:45"
          ],
          [
           640,
           "2008-05-14T02:12:47"
          ],
          [
           647,
           "2008-05-14T02:12:49"
          ],
          [
           653,
           "2008-05-14T02:12:51"
          ],
          [
           657,
           "2008-05-14T02:12:53"
          ],
          [
           658,
           "2008-05-14T02:12:55"
          ],
          [
           657,
           "2008-05-14T02:12:57"
          ],
          [
           654,
           "2008-05-14T02:12:59"
          ],
          [
           652,
           "2008-05-14T02:13:01"
          ],
          [
           652,
           "2008-05-14T02:13:03"
          ],
          [
           651,
           "2008-05-14T02:13:05"
          ],
          [
           650,
           "2008-05-14T02:13:07"
          ],
          [
           652,
           "2008-05-14T02:13:09"
          ],
          [
           654,
           "2008-05-14T02:13:11"
          ],
          [
           655,
           "2008-05-14T02:13:13"
          ],
          [
           656,
           "2008-05-14T02:13:15"
          ],
          [
           653,
           "2008-05-14T02:13:17"
          ],
          [
           655,
           "2008-05-14T02:13:19"
          ],
          [
           656,
           "2008-05-14T02:13:21"
          ],
          [
           654,
           "2008-05-14T02:13:23"
          ],
          [
           652,
           "2008-05-14T02:13:25"
          ],
          [
           651,
           "2008-05-14T02:13:27"
          ],
          [
           652,
           "2008-05-14T02:13:29"
          ],
          [
           654,
           "2008-05-14T02:13:31"
          ],
          [
           658,
           "2008-05-14T02:13:33"
          ],
          [
           660,
           "2008-05-14T02:13:34"
          ],
          [
           660,
           "2008-05-14T02:13:35"
          ],
          [
           660,
           "2008-05-14T02:13:36"
          ],
          [
           662,
           "2008-05-14T02:13:37"
          ],
          [
           664,
           "2008-05-14T02:13:38"
          ],
          [
           665,
           "2008-05-14T02:13:39"
          ],
          [
           666,
           "2008-05-14T02:13:40"
          ],
          [
           667,
           "2008-05-14T02:13:41"
          ],
          [
           668,
           "2008-05-14T02:13:42"
          ],
          [
           669,
           "2008-05-14T02:13:43"
          ],
          [
           670,
           "2008-05-14T02:13:44"
          ],
          [
           671,
           "2008-05-14T02:13:45"
          ],
          [
           672,
           "2008-05-14T02:13:46"
          ],
          [
           673,
           "2008-05-14T02:13:47"
          ],
          [
           326,
           "2008-05-14T02:15:43"
          ],
          [
           -149,
           "2008-05-14T02:15:46"
          ],
          [
           -155,
           "2008-05-14T02:15:48"
          ],
          [
           -164,
           "2008-05-14T02:15:49"
          ],
          [
           -164,
           "2008-05-14T02:15:51"
          ],
          [
           -102,
           "2008-05-14T02:15:53"
          ],
          [
           -107,
           "2008-05-14T02:15:55"
          ],
          [
           -112,
           "2008-05-14T02:15:57"
          ],
          [
           -97,
           "2008-05-14T02:15:59"
          ],
          [
           -84,
           "2008-05-14T02:16:01"
          ],
          [
           -83,
           "2008-05-14T02:16:03"
          ],
          [
           -55,
           "2008-05-14T02:16:05"
          ],
          [
           -4,
           "2008-05-14T02:16:07"
          ],
          [
           0,
           "2008-05-14T02:16:09"
          ],
          [
           3,
           "2008-05-14T02:16:11"
          ],
          [
           5,
           "2008-05-14T02:16:13"
          ],
          [
           11,
           "2008-05-14T02:16:15"
          ],
          [
           18,
           "2008-05-14T02:16:17"
          ],
          [
           17,
           "2008-05-14T02:16:19"
          ],
          [
           17,
           "2008-05-14T02:16:21"
          ],
          [
           17,
           "2008-05-14T02:16:23"
          ],
          [
           17,
           "2008-05-14T02:16:25"
          ],
          [
           17,
           "2008-05-14T02:16:27"
          ],
          [
           17,
           "2008-05-14T02:16:29"
          ],
          [
           17,
           "2008-05-14T02:16:31"
          ],
          [
           17,
           "2008-05-14T02:16:33"
          ],
          [
           17,
           "2008-05-14T02:16:35"
          ],
          [
           17,
           "2008-05-14T02:16:37"
          ],
          [
           17,
           "2008-05-14T02:16:39"
          ],
          [
           17,
           "2008-05-14T02:16:41"
          ],
          [
           15,
           "2008-05-14T02:16:43"
          ],
          [
           17,
           "2008-05-14T02:16:45"
          ],
          [
           43,
           "2008-05-14T02:16:46"
          ],
          [
           60,
           "2008-05-14T02:16:48"
          ],
          [
           59,
           "2008-05-14T02:16:50"
          ],
          [
           63,
           "2008-05-14T02:16:52"
          ],
          [
           56,
           "2008-05-14T02:16:54"
          ],
          [
           54,
           "2008-05-14T02:16:56"
          ],
          [
           33,
           "2008-05-14T02:16:58"
          ],
          [
           6,
           "2008-05-14T02:17:00"
          ],
          [
           -2,
           "2008-05-14T02:17:02"
          ],
          [
           -10,
           "2008-05-14T02:17:04"
          ],
          [
           -19,
           "2008-05-14T02:17:06"
          ],
          [
           -22,
           "2008-05-14T02:17:08"
          ],
          [
           -28,
           "2008-05-14T02:17:10"
          ],
          [
           -34,
           "2008-05-14T02:17:12"
          ],
          [
           -38,
           "2008-05-14T02:17:14"
          ],
          [
           -42,
           "2008-05-14T02:17:16"
          ],
          [
           -43,
           "2008-05-14T02:17:18"
          ],
          [
           -48,
           "2008-05-14T02:17:20"
          ],
          [
           -50,
           "2008-05-14T02:17:22"
          ],
          [
           -50,
           "2008-05-14T02:17:24"
          ],
          [
           -53,
           "2008-05-14T02:17:26"
          ],
          [
           -55,
           "2008-05-14T02:17:28"
          ],
          [
           -51,
           "2008-05-14T02:17:30"
          ],
          [
           -50,
           "2008-05-14T02:17:32"
          ],
          [
           -50,
           "2008-05-14T02:17:34"
          ],
          [
           -51,
           "2008-05-14T02:17:36"
          ],
          [
           -50,
           "2008-05-14T02:17:38"
          ],
          [
           -50,
           "2008-05-14T02:17:40"
          ],
          [
           -49,
           "2008-05-14T02:17:42"
          ],
          [
           -51,
           "2008-05-14T02:17:44"
          ],
          [
           -52,
           "2008-05-14T02:17:46"
          ],
          [
           -56,
           "2008-05-14T02:17:48"
          ],
          [
           -62,
           "2008-05-14T02:17:50"
          ],
          [
           -64,
           "2008-05-14T02:17:52"
          ],
          [
           -69,
           "2008-05-14T02:17:54"
          ],
          [
           -73,
           "2008-05-14T02:17:56"
          ],
          [
           -71,
           "2008-05-14T02:17:58"
          ],
          [
           -70,
           "2008-05-14T02:18:00"
          ],
          [
           -59,
           "2008-05-14T02:18:02"
          ],
          [
           -41,
           "2008-05-14T02:18:04"
          ],
          [
           -34,
           "2008-05-14T02:18:06"
          ],
          [
           -24,
           "2008-05-14T02:18:08"
          ],
          [
           -10,
           "2008-05-14T02:18:10"
          ],
          [
           -13,
           "2008-05-14T02:18:12"
          ],
          [
           -5,
           "2008-05-14T02:18:14"
          ],
          [
           -15,
           "2008-05-14T02:18:16"
          ],
          [
           -20,
           "2008-05-14T02:18:18"
          ],
          [
           -13,
           "2008-05-14T02:18:20"
          ],
          [
           -5,
           "2008-05-14T02:18:22"
          ],
          [
           4,
           "2008-05-14T02:18:24"
          ],
          [
           4,
           "2008-05-14T02:18:26"
          ],
          [
           13,
           "2008-05-14T02:18:28"
          ],
          [
           16,
           "2008-05-14T02:18:30"
          ],
          [
           17,
           "2008-05-14T02:18:32"
          ],
          [
           22,
           "2008-05-14T02:18:34"
          ],
          [
           24,
           "2008-05-14T02:18:36"
          ],
          [
           26,
           "2008-05-14T02:18:38"
          ],
          [
           30,
           "2008-05-14T02:18:40"
          ],
          [
           31,
           "2008-05-14T02:18:42"
          ],
          [
           29,
           "2008-05-14T02:18:44"
          ],
          [
           27,
           "2008-05-14T02:18:46"
          ],
          [
           32,
           "2008-05-14T02:18:48"
          ],
          [
           31,
           "2008-05-14T02:18:50"
          ],
          [
           30,
           "2008-05-14T02:18:52"
          ],
          [
           28,
           "2008-05-14T02:18:54"
          ],
          [
           26,
           "2008-05-14T02:18:56"
          ],
          [
           30,
           "2008-05-14T02:18:58"
          ],
          [
           41,
           "2008-05-14T02:19:00"
          ],
          [
           46,
           "2008-05-14T02:19:02"
          ],
          [
           47,
           "2008-05-14T02:19:04"
          ],
          [
           48,
           "2008-05-14T02:19:06"
          ],
          [
           47,
           "2008-05-14T02:19:08"
          ],
          [
           48,
           "2008-05-14T02:19:10"
          ],
          [
           49,
           "2008-05-14T02:19:12"
          ],
          [
           48,
           "2008-05-14T02:19:14"
          ],
          [
           46,
           "2008-05-14T02:19:16"
          ],
          [
           44,
           "2008-05-14T02:19:18"
          ],
          [
           44,
           "2008-05-14T02:19:20"
          ],
          [
           43,
           "2008-05-14T02:19:22"
          ],
          [
           41,
           "2008-05-14T02:19:24"
          ],
          [
           38,
           "2008-05-14T02:19:26"
          ],
          [
           34,
           "2008-05-14T02:19:28"
          ],
          [
           31,
           "2008-05-14T02:19:30"
          ],
          [
           28,
           "2008-05-14T02:19:32"
          ],
          [
           24,
           "2008-05-14T02:19:34"
          ],
          [
           21,
           "2008-05-14T02:19:36"
          ],
          [
           20,
           "2008-05-14T02:19:38"
          ],
          [
           19,
           "2008-05-14T02:19:40"
          ],
          [
           18,
           "2008-05-14T02:19:42"
          ],
          [
           17,
           "2008-05-14T02:19:44"
          ],
          [
           16,
           "2008-05-14T02:19:46"
          ],
          [
           15,
           "2008-05-14T02:19:48"
          ],
          [
           15,
           "2008-05-14T02:19:50"
          ],
          [
           14,
           "2008-05-14T02:19:52"
          ]
         ],
         "hovertemplate": "text=%{text}<br>latitude=%{lat}<br>longitude=%{lon}<br>altitude=%{marker.color}<br>datetime=%{customdata[1]}<extra></extra>",
         "lat": [
          40.070171,
          40.070932,
          40.070891,
          40.070889,
          40.070884,
          40.07088,
          40.070861,
          40.070837,
          40.070809,
          40.070782,
          40.070761,
          40.070742,
          40.07072,
          40.070689,
          40.070673,
          40.070667,
          40.070664,
          40.070661,
          40.070631,
          40.070605,
          40.070567,
          40.070528,
          40.070479,
          40.070412,
          40.070327,
          40.070248,
          40.070165,
          40.070131,
          40.070104,
          40.070073,
          40.070045,
          40.07003,
          40.070012,
          40.069998,
          40.042212,
          40.041949,
          40.041645,
          40.041423,
          40.04132,
          40.041116,
          40.040983,
          40.040829,
          40.040654,
          40.040511,
          40.040373,
          40.040226,
          40.040107,
          40.040002,
          40.039907,
          40.039756,
          40.039605,
          40.039477,
          40.039365,
          40.039251,
          40.039124,
          40.038994,
          40.038906,
          40.0388,
          40.038742,
          40.038736,
          40.038645,
          40.038558,
          40.038468,
          40.038432,
          40.038387,
          40.03833,
          40.038263,
          40.038213,
          40.038128,
          40.038047,
          40.037966,
          40.037887,
          40.037822,
          40.035248,
          40.035005,
          40.034885,
          40.034717,
          40.034578,
          40.03445,
          40.034313,
          40.034192,
          40.034069,
          40.033938,
          40.03379,
          40.03366,
          40.033524,
          40.033394,
          40.033262,
          40.033122,
          40.032995,
          40.032866,
          40.032744,
          40.032625,
          40.032509,
          40.032398,
          40.032289,
          40.032184,
          40.030764,
          40.030583,
          40.030439,
          40.03028,
          40.03011,
          40.029974,
          40.029824,
          40.029662,
          40.029529,
          40.029373,
          40.029224,
          40.029046,
          40.028905,
          40.028781,
          40.028638,
          40.028503,
          40.028362,
          40.028223,
          40.028096,
          40.027958,
          40.027825,
          40.02769,
          40.027546,
          40.027407,
          40.027266,
          40.027127,
          40.026983,
          40.026842,
          40.026704,
          40.026565,
          40.026422,
          40.026273,
          40.026126,
          40.025969,
          40.025812,
          40.025654,
          40.025491,
          40.025322,
          40.025152,
          40.024976,
          40.024807,
          40.02464,
          40.024469,
          40.024285,
          40.024104,
          40.023934,
          40.023765,
          40.023592,
          40.023418,
          40.023237,
          40.023052,
          40.022871,
          40.022686,
          40.022504,
          40.022319,
          40.022151,
          40.021975,
          40.021802,
          40.021628,
          40.021457,
          40.021278,
          40.021109,
          40.020982,
          40.02084,
          40.020715,
          40.020584,
          40.020466,
          40.020344,
          40.020201,
          40.020064,
          40.019926,
          40.019788,
          40.019648,
          40.019507,
          40.019356,
          40.019215,
          40.019074,
          40.018934,
          40.018792,
          40.018647,
          40.018511,
          40.018372,
          40.018237,
          40.018089,
          40.017952,
          40.017818,
          40.017693,
          40.017571,
          40.017452,
          40.01736,
          40.01725,
          40.017135,
          40.017032,
          40.016915,
          40.016853,
          40.016758,
          40.016664,
          40.016556,
          40.016452,
          40.01633,
          40.016206,
          40.016107,
          40.015999,
          40.015887,
          40.015804,
          40.015705,
          40.015598,
          40.015506,
          40.01539,
          40.015264,
          40.015146,
          40.01503,
          40.01494,
          40.014845,
          40.014747,
          40.01465,
          40.014546,
          40.014448,
          40.014322,
          40.014223,
          40.014118,
          40.014026,
          40.013921,
          40.013816,
          40.013714,
          40.013611,
          40.013511,
          40.013413,
          40.013306,
          40.013204,
          40.013093,
          40.012978,
          40.012885,
          40.012791,
          40.012699,
          40.012593,
          40.012491,
          40.01239,
          40.012273,
          40.012153,
          40.011996,
          40.011864,
          40.011731,
          40.011597,
          40.011469,
          40.011351,
          40.011234,
          40.011123,
          40.010993,
          40.010879,
          40.010752,
          40.010601,
          40.010498,
          40.010401,
          40.010309,
          40.01022,
          40.010131,
          40.010049,
          40.009958,
          40.009868,
          40.009774,
          40.009631,
          40.009529,
          40.009426,
          40.009335,
          40.009158,
          40.008974,
          40.008803,
          40.00866,
          40.00852,
          40.008365,
          40.008215,
          40.008062,
          40.007925,
          40.007781,
          40.007683,
          40.007581,
          40.007452,
          40.007301,
          40.007197,
          40.00709,
          40.006993,
          40.00681,
          40.006696,
          40.006563,
          40.006441,
          40.006261,
          40.006127,
          40.005998,
          40.005863,
          40.005623,
          40.005486,
          40.00537,
          40.005244,
          40.005118,
          40.004992,
          40.004864,
          40.004735,
          40.004613,
          40.004472,
          40.004332,
          40.004197,
          40.004072,
          40.003954,
          40.00383,
          40.003699,
          40.003564,
          40.003415,
          40.003269,
          40.003114,
          40.002956,
          40.002784,
          40.002613,
          40.002444,
          40.002281,
          40.002114,
          40.001974,
          40.001841,
          40.001662,
          40.00148,
          40.001304,
          40.00113,
          40.000931,
          40.00075,
          40.000577,
          40.000386,
          40.000205,
          40.000021,
          39.999863,
          39.999681,
          39.999496,
          39.999305,
          39.999129,
          39.998949,
          39.998783,
          39.998619,
          39.998452,
          39.998209,
          39.997988,
          39.997756,
          39.997545,
          39.997361,
          39.997175,
          39.997,
          39.9968,
          39.996607,
          39.996417,
          39.99623,
          39.996016,
          39.995834,
          39.995628,
          39.995407,
          39.995207,
          39.995027,
          39.994853,
          39.994688,
          39.994517,
          39.994355,
          39.99419,
          39.994028,
          39.99387,
          39.993715,
          39.993564,
          39.993425,
          39.993284,
          39.993151,
          39.992998,
          39.992852,
          39.992727,
          39.992603,
          39.992496,
          39.992398,
          39.992242,
          39.992116,
          39.992012,
          39.991923,
          39.991857,
          39.991809,
          39.991759,
          39.991728,
          39.9917,
          39.991685,
          39.991685,
          39.991692,
          39.991691,
          39.991682,
          39.991674,
          39.991676,
          39.9917,
          39.991739,
          39.991711,
          39.991701,
          39.991708,
          39.991716,
          39.991724,
          39.991699,
          39.99171,
          39.991695,
          39.991687,
          39.991673,
          39.991663,
          39.991663,
          39.991664,
          39.991654,
          39.991626,
          39.991599,
          39.991556,
          39.991483,
          39.991346,
          39.991248,
          39.991146,
          39.991033,
          39.990893,
          39.990757,
          39.990619,
          39.990473,
          39.990315,
          39.99015,
          39.989978,
          39.989807,
          39.989635,
          39.989461,
          39.98929,
          39.974127,
          39.973874,
          39.973878,
          39.973975,
          39.973983,
          39.974148,
          39.974153,
          39.974169,
          39.974225,
          39.974258,
          39.974265,
          39.974349,
          39.974476,
          39.974482,
          39.974497,
          39.974502,
          39.974501,
          39.974513,
          39.974512,
          39.974515,
          39.974516,
          39.974516,
          39.974516,
          39.974514,
          39.974512,
          39.974512,
          39.974514,
          39.974516,
          39.974517,
          39.974519,
          39.974522,
          39.97466,
          39.974811,
          39.974906,
          39.974908,
          39.974947,
          39.974943,
          39.974922,
          39.974911,
          39.974904,
          39.974894,
          39.9749,
          39.974902,
          39.974904,
          39.974913,
          39.97493,
          39.974942,
          39.97497,
          39.974975,
          39.974989,
          39.974998,
          39.974991,
          39.974989,
          39.975004,
          39.975012,
          39.975012,
          39.97502,
          39.975022,
          39.975035,
          39.97505,
          39.975059,
          39.975059,
          39.97505,
          39.975062,
          39.97505,
          39.975042,
          39.975034,
          39.975017,
          39.975029,
          39.975047,
          39.975067,
          39.975107,
          39.975141,
          39.97516,
          39.975202,
          39.975198,
          39.97521,
          39.975175,
          39.975159,
          39.975175,
          39.975204,
          39.975236,
          39.975263,
          39.975294,
          39.975318,
          39.975336,
          39.975362,
          39.975394,
          39.975426,
          39.975453,
          39.975473,
          39.975493,
          39.975497,
          39.975509,
          39.975517,
          39.975522,
          39.975519,
          39.975505,
          39.975477,
          39.975334,
          39.97523,
          39.975216,
          39.975164,
          39.975101,
          39.975079,
          39.975068,
          39.97502,
          39.974998,
          39.97496,
          39.974953,
          39.974938,
          39.974919,
          39.974911,
          39.974876,
          39.974863,
          39.974857,
          39.974865,
          39.974882,
          39.974877,
          39.974871,
          39.974872,
          39.974874,
          39.974882,
          39.97489,
          39.9749,
          39.974911
         ],
         "legendgroup": "",
         "lon": [
          116.313091,
          116.312586,
          116.312604,
          116.312607,
          116.312616,
          116.31262,
          116.312677,
          116.312726,
          116.312768,
          116.312796,
          116.312827,
          116.312858,
          116.31289,
          116.31291,
          116.312919,
          116.312923,
          116.312925,
          116.312921,
          116.312903,
          116.312875,
          116.312827,
          116.312777,
          116.312711,
          116.312611,
          116.312481,
          116.31234,
          116.312149,
          116.312032,
          116.311899,
          116.311762,
          116.311621,
          116.311473,
          116.311327,
          116.311184,
          116.306721,
          116.30678,
          116.306834,
          116.30689,
          116.306975,
          116.307001,
          116.307064,
          116.307105,
          116.307145,
          116.307196,
          116.307239,
          116.307281,
          116.307333,
          116.307378,
          116.307432,
          116.307461,
          116.30749,
          116.307529,
          116.307578,
          116.307625,
          116.30767,
          116.307714,
          116.307788,
          116.307856,
          116.307952,
          116.308085,
          116.308173,
          116.308255,
          116.308337,
          116.308448,
          116.308554,
          116.308654,
          116.308752,
          116.308873,
          116.30897,
          116.309064,
          116.309153,
          116.309242,
          116.309337,
          116.312273,
          116.312466,
          116.312541,
          116.312614,
          116.312675,
          116.312732,
          116.312797,
          116.312861,
          116.31293,
          116.312995,
          116.313065,
          116.313126,
          116.313185,
          116.313244,
          116.313301,
          116.313356,
          116.313401,
          116.313443,
          116.313484,
          116.313528,
          116.313573,
          116.31362,
          116.313663,
          116.313702,
          116.314368,
          116.314382,
          116.31443,
          116.314493,
          116.314573,
          116.314642,
          116.314702,
          116.314773,
          116.314825,
          116.314894,
          116.314957,
          116.315043,
          116.315103,
          116.315152,
          116.315216,
          116.315274,
          116.315336,
          116.315393,
          116.315444,
          116.315502,
          116.315554,
          116.315609,
          116.315671,
          116.315734,
          116.315798,
          116.315859,
          116.315924,
          116.315987,
          116.316048,
          116.316107,
          116.316169,
          116.316232,
          116.316292,
          116.316356,
          116.316424,
          116.316491,
          116.316547,
          116.316612,
          116.316676,
          116.316741,
          116.316799,
          116.316856,
          116.316918,
          116.316993,
          116.317067,
          116.317132,
          116.317194,
          116.31726,
          116.317328,
          116.317395,
          116.317463,
          116.317528,
          116.317592,
          116.317656,
          116.31772,
          116.317781,
          116.317848,
          116.317914,
          116.31798,
          116.318039,
          116.318092,
          116.318136,
          116.318163,
          116.318198,
          116.318231,
          116.318263,
          116.318307,
          116.318353,
          116.3184,
          116.31845,
          116.318496,
          116.318542,
          116.31859,
          116.31864,
          116.31869,
          116.318743,
          116.318788,
          116.318836,
          116.318882,
          116.318932,
          116.318982,
          116.319035,
          116.319082,
          116.31913,
          116.319176,
          116.31923,
          116.319302,
          116.319372,
          116.31945,
          116.319547,
          116.319637,
          116.319728,
          116.319823,
          116.31993,
          116.320076,
          116.320219,
          116.320363,
          116.32051,
          116.320645,
          116.320776,
          116.320907,
          116.321066,
          116.321221,
          116.321377,
          116.321551,
          116.321712,
          116.321849,
          116.321997,
          116.322127,
          116.322253,
          116.322377,
          116.322524,
          116.322677,
          116.322826,
          116.322966,
          116.323106,
          116.32325,
          116.323393,
          116.323634,
          116.323779,
          116.323874,
          116.324013,
          116.324154,
          116.324299,
          116.324442,
          116.324588,
          116.324734,
          116.324878,
          116.325017,
          116.325154,
          116.325293,
          116.325432,
          116.325567,
          116.325698,
          116.325829,
          116.325959,
          116.32609,
          116.326225,
          116.326356,
          116.326489,
          116.326554,
          116.326688,
          116.326822,
          116.326959,
          116.327092,
          116.327224,
          116.327354,
          116.327492,
          116.327634,
          116.327767,
          116.327901,
          116.327962,
          116.328084,
          116.328207,
          116.328331,
          116.328453,
          116.328576,
          116.328698,
          116.32882,
          116.328937,
          116.329053,
          116.329119,
          116.329236,
          116.329354,
          116.329463,
          116.329553,
          116.329643,
          116.32974,
          116.329834,
          116.329933,
          116.330039,
          116.33014,
          116.330239,
          116.330319,
          116.3304,
          116.330453,
          116.33051,
          116.330555,
          116.3306,
          116.330638,
          116.330671,
          116.330692,
          116.330728,
          116.330762,
          116.330786,
          116.330806,
          116.330829,
          116.330845,
          116.33086,
          116.330881,
          116.330937,
          116.330963,
          116.330963,
          116.330978,
          116.330986,
          116.330994,
          116.331011,
          116.331033,
          116.331046,
          116.331073,
          116.331102,
          116.33113,
          116.331152,
          116.331169,
          116.331187,
          116.331206,
          116.331226,
          116.331247,
          116.331269,
          116.331291,
          116.331314,
          116.331339,
          116.331363,
          116.331385,
          116.331402,
          116.331419,
          116.331419,
          116.331396,
          116.331393,
          116.33139,
          116.33137,
          116.331351,
          116.331348,
          116.331327,
          116.3313,
          116.331283,
          116.331259,
          116.331235,
          116.331187,
          116.331157,
          116.331128,
          116.3311,
          116.331076,
          116.331051,
          116.331025,
          116.330993,
          116.330968,
          116.330942,
          116.330921,
          116.330892,
          116.330885,
          116.330863,
          116.330853,
          116.330827,
          116.330801,
          116.330779,
          116.330771,
          116.330751,
          116.330711,
          116.330687,
          116.330653,
          116.330633,
          116.33062,
          116.330609,
          116.330571,
          116.330549,
          116.33053,
          116.330513,
          116.330507,
          116.330493,
          116.330498,
          116.330498,
          116.330494,
          116.330492,
          116.330493,
          116.330493,
          116.330484,
          116.330469,
          116.330451,
          116.330458,
          116.33045,
          116.330444,
          116.330445,
          116.33045,
          116.330453,
          116.330439,
          116.330407,
          116.330381,
          116.330384,
          116.330366,
          116.330347,
          116.33033,
          116.330334,
          116.330326,
          116.330314,
          116.330302,
          116.330289,
          116.330275,
          116.3303,
          116.330349,
          116.330436,
          116.330537,
          116.330612,
          116.330649,
          116.330709,
          116.33078,
          116.33082,
          116.330863,
          116.330921,
          116.330955,
          116.330986,
          116.330989,
          116.330994,
          116.331041,
          116.331073,
          116.331086,
          116.331081,
          116.331037,
          116.330995,
          116.330979,
          116.330961,
          116.330946,
          116.330941,
          116.330928,
          116.330919,
          116.330914,
          116.330913,
          116.330917,
          116.33092,
          116.330931,
          116.330943,
          116.330955,
          116.330965,
          116.33249,
          116.33431,
          116.334298,
          116.334282,
          116.334278,
          116.334175,
          116.334184,
          116.334193,
          116.334159,
          116.334145,
          116.334146,
          116.334108,
          116.334028,
          116.334018,
          116.334013,
          116.334013,
          116.334013,
          116.333995,
          116.333996,
          116.333995,
          116.333993,
          116.333994,
          116.333998,
          116.334003,
          116.334005,
          116.334005,
          116.334001,
          116.333997,
          116.333995,
          116.333992,
          116.333971,
          116.33387,
          116.333793,
          116.333723,
          116.333724,
          116.333708,
          116.33369,
          116.33368,
          116.333688,
          116.333689,
          116.333674,
          116.333659,
          116.333641,
          116.333617,
          116.333597,
          116.333579,
          116.333559,
          116.333526,
          116.333487,
          116.333454,
          116.333418,
          116.333387,
          116.333372,
          116.333349,
          116.333306,
          116.333275,
          116.333243,
          116.333214,
          116.333185,
          116.333155,
          116.333118,
          116.333085,
          116.333062,
          116.333031,
          116.333015,
          116.332975,
          116.332939,
          116.332903,
          116.332865,
          116.332835,
          116.33278,
          116.332721,
          116.332677,
          116.33264,
          116.332583,
          116.332562,
          116.332516,
          116.332493,
          116.332465,
          116.332423,
          116.332385,
          116.332323,
          116.332302,
          116.332259,
          116.332239,
          116.332218,
          116.332192,
          116.332186,
          116.33218,
          116.332179,
          116.332183,
          116.33219,
          116.332191,
          116.332163,
          116.33216,
          116.332142,
          116.332129,
          116.332122,
          116.332088,
          116.331753,
          116.331626,
          116.33159,
          116.33159,
          116.331619,
          116.331642,
          116.331614,
          116.331638,
          116.331646,
          116.331646,
          116.331637,
          116.331623,
          116.331616,
          116.331589,
          116.331586,
          116.331573,
          116.331555,
          116.33153,
          116.331493,
          116.331474,
          116.331462,
          116.331448,
          116.331437,
          116.331423,
          116.331411,
          116.331403,
          116.331393
         ],
         "marker": {
          "color": [
           488,
           1192,
           1169,
           1159,
           1154,
           1154,
           1133,
           1113,
           1094,
           1076,
           1058,
           1041,
           1024,
           1009,
           997,
           989,
           989,
           988,
           974,
           961,
           948,
           935,
           922,
           910,
           899,
           888,
           877,
           872,
           867,
           862,
           857,
           857,
           857,
           858,
           271,
           238,
           216,
           203,
           196,
           190,
           186,
           184,
           181,
           180,
           179,
           178,
           178,
           177,
           177,
           177,
           177,
           177,
           177,
           177,
           178,
           178,
           179,
           179,
           180,
           180,
           181,
           181,
           182,
           182,
           183,
           183,
           184,
           184,
           185,
           185,
           186,
           186,
           187,
           177,
           180,
           182,
           184,
           186,
           187,
           188,
           190,
           193,
           195,
           198,
           200,
           201,
           203,
           204,
           205,
           206,
           206,
           207,
           208,
           209,
           210,
           211,
           212,
           183,
           174,
           172,
           169,
           166,
           164,
           163,
           162,
           161,
           162,
           163,
           165,
           165,
           166,
           167,
           168,
           169,
           170,
           170,
           172,
           173,
           173,
           175,
           176,
           178,
           179,
           181,
           182,
           183,
           185,
           186,
           188,
           190,
           191,
           193,
           194,
           196,
           198,
           200,
           201,
           203,
           205,
           206,
           208,
           209,
           211,
           213,
           215,
           217,
           220,
           222,
           224,
           226,
           229,
           231,
           233,
           236,
           238,
           240,
           243,
           245,
           247,
           259,
           269,
           281,
           290,
           295,
           300,
           305,
           309,
           314,
           318,
           323,
           327,
           331,
           337,
           339,
           343,
           344,
           347,
           350,
           354,
           359,
           364,
           368,
           373,
           379,
           385,
           390,
           391,
           397,
           404,
           410,
           416,
           417,
           422,
           422,
           426,
           430,
           436,
           442,
           443,
           445,
           447,
           445,
           446,
           449,
           451,
           455,
           459,
           463,
           465,
           466,
           467,
           468,
           470,
           471,
           471,
           470,
           470,
           471,
           472,
           472,
           473,
           474,
           474,
           475,
           476,
           477,
           478,
           479,
           480,
           482,
           483,
           484,
           486,
           487,
           489,
           490,
           492,
           495,
           497,
           498,
           500,
           501,
           503,
           504,
           505,
           507,
           508,
           510,
           513,
           515,
           516,
           518,
           520,
           522,
           524,
           526,
           528,
           530,
           534,
           536,
           538,
           541,
           540,
           541,
           543,
           547,
           551,
           553,
           555,
           557,
           558,
           558,
           559,
           561,
           562,
           564,
           568,
           571,
           573,
           579,
           577,
           579,
           582,
           575,
           579,
           582,
           586,
           572,
           576,
           578,
           581,
           584,
           587,
           591,
           594,
           598,
           596,
           598,
           601,
           604,
           607,
           610,
           614,
           617,
           621,
           624,
           627,
           631,
           634,
           637,
           641,
           644,
           647,
           650,
           652,
           654,
           656,
           657,
           658,
           659,
           660,
           662,
           663,
           664,
           665,
           666,
           667,
           668,
           669,
           670,
           671,
           673,
           674,
           675,
           670,
           665,
           660,
           656,
           653,
           650,
           647,
           640,
           635,
           634,
           632,
           628,
           627,
           623,
           619,
           614,
           611,
           609,
           610,
           611,
           612,
           607,
           608,
           609,
           610,
           610,
           609,
           609,
           584,
           581,
           577,
           578,
           580,
           580,
           579,
           580,
           580,
           583,
           588,
           592,
           597,
           601,
           606,
           611,
           617,
           620,
           627,
           633,
           640,
           647,
           653,
           657,
           658,
           657,
           654,
           652,
           652,
           651,
           650,
           652,
           654,
           655,
           656,
           653,
           655,
           656,
           654,
           652,
           651,
           652,
           654,
           658,
           660,
           660,
           660,
           662,
           664,
           665,
           666,
           667,
           668,
           669,
           670,
           671,
           672,
           673,
           326,
           -149,
           -155,
           -164,
           -164,
           -102,
           -107,
           -112,
           -97,
           -84,
           -83,
           -55,
           -4,
           0,
           3,
           5,
           11,
           18,
           17,
           17,
           17,
           17,
           17,
           17,
           17,
           17,
           17,
           17,
           17,
           17,
           15,
           17,
           43,
           60,
           59,
           63,
           56,
           54,
           33,
           6,
           -2,
           -10,
           -19,
           -22,
           -28,
           -34,
           -38,
           -42,
           -43,
           -48,
           -50,
           -50,
           -53,
           -55,
           -51,
           -50,
           -50,
           -51,
           -50,
           -50,
           -49,
           -51,
           -52,
           -56,
           -62,
           -64,
           -69,
           -73,
           -71,
           -70,
           -59,
           -41,
           -34,
           -24,
           -10,
           -13,
           -5,
           -15,
           -20,
           -13,
           -5,
           4,
           4,
           13,
           16,
           17,
           22,
           24,
           26,
           30,
           31,
           29,
           27,
           32,
           31,
           30,
           28,
           26,
           30,
           41,
           46,
           47,
           48,
           47,
           48,
           49,
           48,
           46,
           44,
           44,
           43,
           41,
           38,
           34,
           31,
           28,
           24,
           21,
           20,
           19,
           18,
           17,
           16,
           15,
           15,
           14
          ],
          "coloraxis": "coloraxis"
         },
         "mode": "markers+text",
         "name": "",
         "showlegend": false,
         "subplot": "mapbox",
         "text": [
          "01:56",
          "01:58",
          "01:58",
          "01:58",
          "01:58",
          "01:58",
          "01:58",
          "01:58",
          "01:58",
          "01:58",
          "01:58",
          "01:58",
          "01:58",
          "01:58",
          "01:58",
          "01:58",
          "01:58",
          "01:58",
          "01:58",
          "01:58",
          "01:58",
          "01:58",
          "01:58",
          "01:58",
          "01:58",
          "01:58",
          "01:58",
          "01:58",
          "01:58",
          "01:58",
          "01:58",
          "01:59",
          "01:59",
          "01:59",
          "02:04",
          "02:04",
          "02:04",
          "02:04",
          "02:04",
          "02:04",
          "02:04",
          "02:04",
          "02:04",
          "02:05",
          "02:05",
          "02:05",
          "02:05",
          "02:05",
          "02:05",
          "02:05",
          "02:05",
          "02:05",
          "02:05",
          "02:05",
          "02:05",
          "02:05",
          "02:05",
          "02:05",
          "02:05",
          "02:05",
          "02:05",
          "02:05",
          "02:05",
          "02:05",
          "02:05",
          "02:05",
          "02:05",
          "02:05",
          "02:05",
          "02:05",
          "02:05",
          "02:05",
          "02:05",
          "02:06",
          "02:06",
          "02:06",
          "02:06",
          "02:06",
          "02:06",
          "02:06",
          "02:06",
          "02:06",
          "02:06",
          "02:06",
          "02:06",
          "02:06",
          "02:06",
          "02:06",
          "02:06",
          "02:06",
          "02:06",
          "02:06",
          "02:06",
          "02:06",
          "02:06",
          "02:06",
          "02:06",
          "02:07",
          "02:07",
          "02:07",
          "02:07",
          "02:07",
          "02:07",
          "02:07",
          "02:07",
          "02:07",
          "02:07",
          "02:07",
          "02:07",
          "02:07",
          "02:07",
          "02:07",
          "02:07",
          "02:07",
          "02:08",
          "02:08",
          "02:08",
          "02:08",
          "02:08",
          "02:08",
          "02:08",
          "02:08",
          "02:08",
          "02:08",
          "02:08",
          "02:08",
          "02:08",
          "02:08",
          "02:08",
          "02:08",
          "02:08",
          "02:08",
          "02:08",
          "02:08",
          "02:08",
          "02:08",
          "02:08",
          "02:08",
          "02:08",
          "02:08",
          "02:08",
          "02:08",
          "02:08",
          "02:08",
          "02:08",
          "02:08",
          "02:08",
          "02:08",
          "02:08",
          "02:08",
          "02:08",
          "02:08",
          "02:08",
          "02:08",
          "02:08",
          "02:08",
          "02:08",
          "02:08",
          "02:08",
          "02:08",
          "02:08",
          "02:08",
          "02:08",
          "02:08",
          "02:08",
          "02:08",
          "02:08",
          "02:08",
          "02:08",
          "02:08",
          "02:08",
          "02:08",
          "02:08",
          "02:08",
          "02:09",
          "02:09",
          "02:09",
          "02:09",
          "02:09",
          "02:09",
          "02:09",
          "02:09",
          "02:09",
          "02:09",
          "02:09",
          "02:09",
          "02:09",
          "02:09",
          "02:09",
          "02:09",
          "02:09",
          "02:09",
          "02:09",
          "02:09",
          "02:09",
          "02:09",
          "02:09",
          "02:09",
          "02:09",
          "02:09",
          "02:09",
          "02:09",
          "02:09",
          "02:09",
          "02:09",
          "02:09",
          "02:09",
          "02:09",
          "02:09",
          "02:09",
          "02:09",
          "02:09",
          "02:09",
          "02:09",
          "02:09",
          "02:09",
          "02:09",
          "02:09",
          "02:09",
          "02:09",
          "02:09",
          "02:09",
          "02:09",
          "02:09",
          "02:09",
          "02:09",
          "02:09",
          "02:09",
          "02:09",
          "02:09",
          "02:09",
          "02:09",
          "02:09",
          "02:10",
          "02:10",
          "02:10",
          "02:10",
          "02:10",
          "02:10",
          "02:10",
          "02:10",
          "02:10",
          "02:10",
          "02:10",
          "02:10",
          "02:10",
          "02:10",
          "02:10",
          "02:10",
          "02:10",
          "02:10",
          "02:10",
          "02:10",
          "02:10",
          "02:10",
          "02:10",
          "02:10",
          "02:10",
          "02:10",
          "02:10",
          "02:10",
          "02:10",
          "02:10",
          "02:10",
          "02:10",
          "02:10",
          "02:10",
          "02:10",
          "02:10",
          "02:10",
          "02:10",
          "02:10",
          "02:10",
          "02:10",
          "02:10",
          "02:10",
          "02:10",
          "02:10",
          "02:10",
          "02:10",
          "02:10",
          "02:10",
          "02:10",
          "02:10",
          "02:10",
          "02:10",
          "02:10",
          "02:10",
          "02:10",
          "02:10",
          "02:11",
          "02:11",
          "02:11",
          "02:11",
          "02:11",
          "02:11",
          "02:11",
          "02:11",
          "02:11",
          "02:11",
          "02:11",
          "02:11",
          "02:11",
          "02:11",
          "02:11",
          "02:11",
          "02:11",
          "02:11",
          "02:11",
          "02:11",
          "02:11",
          "02:11",
          "02:11",
          "02:11",
          "02:11",
          "02:11",
          "02:11",
          "02:11",
          "02:11",
          "02:11",
          "02:11",
          "02:11",
          "02:11",
          "02:11",
          "02:11",
          "02:11",
          "02:11",
          "02:11",
          "02:11",
          "02:11",
          "02:11",
          "02:11",
          "02:11",
          "02:11",
          "02:11",
          "02:11",
          "02:11",
          "02:11",
          "02:11",
          "02:11",
          "02:11",
          "02:11",
          "02:11",
          "02:11",
          "02:11",
          "02:11",
          "02:11",
          "02:11",
          "02:11",
          "02:11",
          "02:12",
          "02:12",
          "02:12",
          "02:12",
          "02:12",
          "02:12",
          "02:12",
          "02:12",
          "02:12",
          "02:12",
          "02:12",
          "02:12",
          "02:12",
          "02:12",
          "02:12",
          "02:12",
          "02:12",
          "02:12",
          "02:12",
          "02:12",
          "02:12",
          "02:12",
          "02:12",
          "02:12",
          "02:12",
          "02:12",
          "02:12",
          "02:12",
          "02:12",
          "02:12",
          "02:12",
          "02:12",
          "02:12",
          "02:12",
          "02:12",
          "02:12",
          "02:12",
          "02:12",
          "02:12",
          "02:13",
          "02:13",
          "02:13",
          "02:13",
          "02:13",
          "02:13",
          "02:13",
          "02:13",
          "02:13",
          "02:13",
          "02:13",
          "02:13",
          "02:13",
          "02:13",
          "02:13",
          "02:13",
          "02:13",
          "02:13",
          "02:13",
          "02:13",
          "02:13",
          "02:13",
          "02:13",
          "02:13",
          "02:13",
          "02:13",
          "02:13",
          "02:13",
          "02:13",
          "02:13",
          "02:13",
          "02:15",
          "02:15",
          "02:15",
          "02:15",
          "02:15",
          "02:15",
          "02:15",
          "02:15",
          "02:15",
          "02:16",
          "02:16",
          "02:16",
          "02:16",
          "02:16",
          "02:16",
          "02:16",
          "02:16",
          "02:16",
          "02:16",
          "02:16",
          "02:16",
          "02:16",
          "02:16",
          "02:16",
          "02:16",
          "02:16",
          "02:16",
          "02:16",
          "02:16",
          "02:16",
          "02:16",
          "02:16",
          "02:16",
          "02:16",
          "02:16",
          "02:16",
          "02:16",
          "02:16",
          "02:16",
          "02:17",
          "02:17",
          "02:17",
          "02:17",
          "02:17",
          "02:17",
          "02:17",
          "02:17",
          "02:17",
          "02:17",
          "02:17",
          "02:17",
          "02:17",
          "02:17",
          "02:17",
          "02:17",
          "02:17",
          "02:17",
          "02:17",
          "02:17",
          "02:17",
          "02:17",
          "02:17",
          "02:17",
          "02:17",
          "02:17",
          "02:17",
          "02:17",
          "02:17",
          "02:17",
          "02:18",
          "02:18",
          "02:18",
          "02:18",
          "02:18",
          "02:18",
          "02:18",
          "02:18",
          "02:18",
          "02:18",
          "02:18",
          "02:18",
          "02:18",
          "02:18",
          "02:18",
          "02:18",
          "02:18",
          "02:18",
          "02:18",
          "02:18",
          "02:18",
          "02:18",
          "02:18",
          "02:18",
          "02:18",
          "02:18",
          "02:18",
          "02:18",
          "02:18",
          "02:18",
          "02:19",
          "02:19",
          "02:19",
          "02:19",
          "02:19",
          "02:19",
          "02:19",
          "02:19",
          "02:19",
          "02:19",
          "02:19",
          "02:19",
          "02:19",
          "02:19",
          "02:19",
          "02:19",
          "02:19",
          "02:19",
          "02:19",
          "02:19",
          "02:19",
          "02:19",
          "02:19",
          "02:19",
          "02:19",
          "02:19",
          "02:19"
         ],
         "type": "scattermapbox"
        }
       ],
       "layout": {
        "coloraxis": {
         "colorbar": {
          "title": {
           "text": "altitude"
          }
         },
         "colorscale": [
          [
           0,
           "#0d0887"
          ],
          [
           0.1111111111111111,
           "#46039f"
          ],
          [
           0.2222222222222222,
           "#7201a8"
          ],
          [
           0.3333333333333333,
           "#9c179e"
          ],
          [
           0.4444444444444444,
           "#bd3786"
          ],
          [
           0.5555555555555556,
           "#d8576b"
          ],
          [
           0.6666666666666666,
           "#ed7953"
          ],
          [
           0.7777777777777778,
           "#fb9f3a"
          ],
          [
           0.8888888888888888,
           "#fdca26"
          ],
          [
           1,
           "#f0f921"
          ]
         ]
        },
        "legend": {
         "tracegroupgap": 0
        },
        "mapbox": {
         "center": {
          "lat": 40.00809271428571,
          "lon": 116.32461906410255
         },
         "domain": {
          "x": [
           0,
           1
          ],
          "y": [
           0,
           1
          ]
         },
         "style": "carto-darkmatter",
         "zoom": 10
        },
        "margin": {
         "b": 0,
         "l": 0,
         "r": 0,
         "t": 0
        },
        "template": {
         "data": {
          "bar": [
           {
            "error_x": {
             "color": "#f2f5fa"
            },
            "error_y": {
             "color": "#f2f5fa"
            },
            "marker": {
             "line": {
              "color": "rgb(17,17,17)",
              "width": 0.5
             },
             "pattern": {
              "fillmode": "overlay",
              "size": 10,
              "solidity": 0.2
             }
            },
            "type": "bar"
           }
          ],
          "barpolar": [
           {
            "marker": {
             "line": {
              "color": "rgb(17,17,17)",
              "width": 0.5
             },
             "pattern": {
              "fillmode": "overlay",
              "size": 10,
              "solidity": 0.2
             }
            },
            "type": "barpolar"
           }
          ],
          "carpet": [
           {
            "aaxis": {
             "endlinecolor": "#A2B1C6",
             "gridcolor": "#506784",
             "linecolor": "#506784",
             "minorgridcolor": "#506784",
             "startlinecolor": "#A2B1C6"
            },
            "baxis": {
             "endlinecolor": "#A2B1C6",
             "gridcolor": "#506784",
             "linecolor": "#506784",
             "minorgridcolor": "#506784",
             "startlinecolor": "#A2B1C6"
            },
            "type": "carpet"
           }
          ],
          "choropleth": [
           {
            "colorbar": {
             "outlinewidth": 0,
             "ticks": ""
            },
            "type": "choropleth"
           }
          ],
          "contour": [
           {
            "colorbar": {
             "outlinewidth": 0,
             "ticks": ""
            },
            "colorscale": [
             [
              0,
              "#0d0887"
             ],
             [
              0.1111111111111111,
              "#46039f"
             ],
             [
              0.2222222222222222,
              "#7201a8"
             ],
             [
              0.3333333333333333,
              "#9c179e"
             ],
             [
              0.4444444444444444,
              "#bd3786"
             ],
             [
              0.5555555555555556,
              "#d8576b"
             ],
             [
              0.6666666666666666,
              "#ed7953"
             ],
             [
              0.7777777777777778,
              "#fb9f3a"
             ],
             [
              0.8888888888888888,
              "#fdca26"
             ],
             [
              1,
              "#f0f921"
             ]
            ],
            "type": "contour"
           }
          ],
          "contourcarpet": [
           {
            "colorbar": {
             "outlinewidth": 0,
             "ticks": ""
            },
            "type": "contourcarpet"
           }
          ],
          "heatmap": [
           {
            "colorbar": {
             "outlinewidth": 0,
             "ticks": ""
            },
            "colorscale": [
             [
              0,
              "#0d0887"
             ],
             [
              0.1111111111111111,
              "#46039f"
             ],
             [
              0.2222222222222222,
              "#7201a8"
             ],
             [
              0.3333333333333333,
              "#9c179e"
             ],
             [
              0.4444444444444444,
              "#bd3786"
             ],
             [
              0.5555555555555556,
              "#d8576b"
             ],
             [
              0.6666666666666666,
              "#ed7953"
             ],
             [
              0.7777777777777778,
              "#fb9f3a"
             ],
             [
              0.8888888888888888,
              "#fdca26"
             ],
             [
              1,
              "#f0f921"
             ]
            ],
            "type": "heatmap"
           }
          ],
          "heatmapgl": [
           {
            "colorbar": {
             "outlinewidth": 0,
             "ticks": ""
            },
            "colorscale": [
             [
              0,
              "#0d0887"
             ],
             [
              0.1111111111111111,
              "#46039f"
             ],
             [
              0.2222222222222222,
              "#7201a8"
             ],
             [
              0.3333333333333333,
              "#9c179e"
             ],
             [
              0.4444444444444444,
              "#bd3786"
             ],
             [
              0.5555555555555556,
              "#d8576b"
             ],
             [
              0.6666666666666666,
              "#ed7953"
             ],
             [
              0.7777777777777778,
              "#fb9f3a"
             ],
             [
              0.8888888888888888,
              "#fdca26"
             ],
             [
              1,
              "#f0f921"
             ]
            ],
            "type": "heatmapgl"
           }
          ],
          "histogram": [
           {
            "marker": {
             "pattern": {
              "fillmode": "overlay",
              "size": 10,
              "solidity": 0.2
             }
            },
            "type": "histogram"
           }
          ],
          "histogram2d": [
           {
            "colorbar": {
             "outlinewidth": 0,
             "ticks": ""
            },
            "colorscale": [
             [
              0,
              "#0d0887"
             ],
             [
              0.1111111111111111,
              "#46039f"
             ],
             [
              0.2222222222222222,
              "#7201a8"
             ],
             [
              0.3333333333333333,
              "#9c179e"
             ],
             [
              0.4444444444444444,
              "#bd3786"
             ],
             [
              0.5555555555555556,
              "#d8576b"
             ],
             [
              0.6666666666666666,
              "#ed7953"
             ],
             [
              0.7777777777777778,
              "#fb9f3a"
             ],
             [
              0.8888888888888888,
              "#fdca26"
             ],
             [
              1,
              "#f0f921"
             ]
            ],
            "type": "histogram2d"
           }
          ],
          "histogram2dcontour": [
           {
            "colorbar": {
             "outlinewidth": 0,
             "ticks": ""
            },
            "colorscale": [
             [
              0,
              "#0d0887"
             ],
             [
              0.1111111111111111,
              "#46039f"
             ],
             [
              0.2222222222222222,
              "#7201a8"
             ],
             [
              0.3333333333333333,
              "#9c179e"
             ],
             [
              0.4444444444444444,
              "#bd3786"
             ],
             [
              0.5555555555555556,
              "#d8576b"
             ],
             [
              0.6666666666666666,
              "#ed7953"
             ],
             [
              0.7777777777777778,
              "#fb9f3a"
             ],
             [
              0.8888888888888888,
              "#fdca26"
             ],
             [
              1,
              "#f0f921"
             ]
            ],
            "type": "histogram2dcontour"
           }
          ],
          "mesh3d": [
           {
            "colorbar": {
             "outlinewidth": 0,
             "ticks": ""
            },
            "type": "mesh3d"
           }
          ],
          "parcoords": [
           {
            "line": {
             "colorbar": {
              "outlinewidth": 0,
              "ticks": ""
             }
            },
            "type": "parcoords"
           }
          ],
          "pie": [
           {
            "automargin": true,
            "type": "pie"
           }
          ],
          "scatter": [
           {
            "marker": {
             "line": {
              "color": "#283442"
             }
            },
            "type": "scatter"
           }
          ],
          "scatter3d": [
           {
            "line": {
             "colorbar": {
              "outlinewidth": 0,
              "ticks": ""
             }
            },
            "marker": {
             "colorbar": {
              "outlinewidth": 0,
              "ticks": ""
             }
            },
            "type": "scatter3d"
           }
          ],
          "scattercarpet": [
           {
            "marker": {
             "colorbar": {
              "outlinewidth": 0,
              "ticks": ""
             }
            },
            "type": "scattercarpet"
           }
          ],
          "scattergeo": [
           {
            "marker": {
             "colorbar": {
              "outlinewidth": 0,
              "ticks": ""
             }
            },
            "type": "scattergeo"
           }
          ],
          "scattergl": [
           {
            "marker": {
             "line": {
              "color": "#283442"
             }
            },
            "type": "scattergl"
           }
          ],
          "scattermapbox": [
           {
            "marker": {
             "colorbar": {
              "outlinewidth": 0,
              "ticks": ""
             }
            },
            "type": "scattermapbox"
           }
          ],
          "scatterpolar": [
           {
            "marker": {
             "colorbar": {
              "outlinewidth": 0,
              "ticks": ""
             }
            },
            "type": "scatterpolar"
           }
          ],
          "scatterpolargl": [
           {
            "marker": {
             "colorbar": {
              "outlinewidth": 0,
              "ticks": ""
             }
            },
            "type": "scatterpolargl"
           }
          ],
          "scatterternary": [
           {
            "marker": {
             "colorbar": {
              "outlinewidth": 0,
              "ticks": ""
             }
            },
            "type": "scatterternary"
           }
          ],
          "surface": [
           {
            "colorbar": {
             "outlinewidth": 0,
             "ticks": ""
            },
            "colorscale": [
             [
              0,
              "#0d0887"
             ],
             [
              0.1111111111111111,
              "#46039f"
             ],
             [
              0.2222222222222222,
              "#7201a8"
             ],
             [
              0.3333333333333333,
              "#9c179e"
             ],
             [
              0.4444444444444444,
              "#bd3786"
             ],
             [
              0.5555555555555556,
              "#d8576b"
             ],
             [
              0.6666666666666666,
              "#ed7953"
             ],
             [
              0.7777777777777778,
              "#fb9f3a"
             ],
             [
              0.8888888888888888,
              "#fdca26"
             ],
             [
              1,
              "#f0f921"
             ]
            ],
            "type": "surface"
           }
          ],
          "table": [
           {
            "cells": {
             "fill": {
              "color": "#506784"
             },
             "line": {
              "color": "rgb(17,17,17)"
             }
            },
            "header": {
             "fill": {
              "color": "#2a3f5f"
             },
             "line": {
              "color": "rgb(17,17,17)"
             }
            },
            "type": "table"
           }
          ]
         },
         "layout": {
          "annotationdefaults": {
           "arrowcolor": "#f2f5fa",
           "arrowhead": 0,
           "arrowwidth": 1
          },
          "autotypenumbers": "strict",
          "coloraxis": {
           "colorbar": {
            "outlinewidth": 0,
            "ticks": ""
           }
          },
          "colorscale": {
           "diverging": [
            [
             0,
             "#8e0152"
            ],
            [
             0.1,
             "#c51b7d"
            ],
            [
             0.2,
             "#de77ae"
            ],
            [
             0.3,
             "#f1b6da"
            ],
            [
             0.4,
             "#fde0ef"
            ],
            [
             0.5,
             "#f7f7f7"
            ],
            [
             0.6,
             "#e6f5d0"
            ],
            [
             0.7,
             "#b8e186"
            ],
            [
             0.8,
             "#7fbc41"
            ],
            [
             0.9,
             "#4d9221"
            ],
            [
             1,
             "#276419"
            ]
           ],
           "sequential": [
            [
             0,
             "#0d0887"
            ],
            [
             0.1111111111111111,
             "#46039f"
            ],
            [
             0.2222222222222222,
             "#7201a8"
            ],
            [
             0.3333333333333333,
             "#9c179e"
            ],
            [
             0.4444444444444444,
             "#bd3786"
            ],
            [
             0.5555555555555556,
             "#d8576b"
            ],
            [
             0.6666666666666666,
             "#ed7953"
            ],
            [
             0.7777777777777778,
             "#fb9f3a"
            ],
            [
             0.8888888888888888,
             "#fdca26"
            ],
            [
             1,
             "#f0f921"
            ]
           ],
           "sequentialminus": [
            [
             0,
             "#0d0887"
            ],
            [
             0.1111111111111111,
             "#46039f"
            ],
            [
             0.2222222222222222,
             "#7201a8"
            ],
            [
             0.3333333333333333,
             "#9c179e"
            ],
            [
             0.4444444444444444,
             "#bd3786"
            ],
            [
             0.5555555555555556,
             "#d8576b"
            ],
            [
             0.6666666666666666,
             "#ed7953"
            ],
            [
             0.7777777777777778,
             "#fb9f3a"
            ],
            [
             0.8888888888888888,
             "#fdca26"
            ],
            [
             1,
             "#f0f921"
            ]
           ]
          },
          "colorway": [
           "#636efa",
           "#EF553B",
           "#00cc96",
           "#ab63fa",
           "#FFA15A",
           "#19d3f3",
           "#FF6692",
           "#B6E880",
           "#FF97FF",
           "#FECB52"
          ],
          "font": {
           "color": "#f2f5fa"
          },
          "geo": {
           "bgcolor": "rgb(17,17,17)",
           "lakecolor": "rgb(17,17,17)",
           "landcolor": "rgb(17,17,17)",
           "showlakes": true,
           "showland": true,
           "subunitcolor": "#506784"
          },
          "hoverlabel": {
           "align": "left"
          },
          "hovermode": "closest",
          "mapbox": {
           "style": "dark"
          },
          "paper_bgcolor": "rgb(17,17,17)",
          "plot_bgcolor": "rgb(17,17,17)",
          "polar": {
           "angularaxis": {
            "gridcolor": "#506784",
            "linecolor": "#506784",
            "ticks": ""
           },
           "bgcolor": "rgb(17,17,17)",
           "radialaxis": {
            "gridcolor": "#506784",
            "linecolor": "#506784",
            "ticks": ""
           }
          },
          "scene": {
           "xaxis": {
            "backgroundcolor": "rgb(17,17,17)",
            "gridcolor": "#506784",
            "gridwidth": 2,
            "linecolor": "#506784",
            "showbackground": true,
            "ticks": "",
            "zerolinecolor": "#C8D4E3"
           },
           "yaxis": {
            "backgroundcolor": "rgb(17,17,17)",
            "gridcolor": "#506784",
            "gridwidth": 2,
            "linecolor": "#506784",
            "showbackground": true,
            "ticks": "",
            "zerolinecolor": "#C8D4E3"
           },
           "zaxis": {
            "backgroundcolor": "rgb(17,17,17)",
            "gridcolor": "#506784",
            "gridwidth": 2,
            "linecolor": "#506784",
            "showbackground": true,
            "ticks": "",
            "zerolinecolor": "#C8D4E3"
           }
          },
          "shapedefaults": {
           "line": {
            "color": "#f2f5fa"
           }
          },
          "sliderdefaults": {
           "bgcolor": "#C8D4E3",
           "bordercolor": "rgb(17,17,17)",
           "borderwidth": 1,
           "tickwidth": 0
          },
          "ternary": {
           "aaxis": {
            "gridcolor": "#506784",
            "linecolor": "#506784",
            "ticks": ""
           },
           "baxis": {
            "gridcolor": "#506784",
            "linecolor": "#506784",
            "ticks": ""
           },
           "bgcolor": "rgb(17,17,17)",
           "caxis": {
            "gridcolor": "#506784",
            "linecolor": "#506784",
            "ticks": ""
           }
          },
          "title": {
           "x": 0.05
          },
          "updatemenudefaults": {
           "bgcolor": "#506784",
           "borderwidth": 0
          },
          "xaxis": {
           "automargin": true,
           "gridcolor": "#283442",
           "linecolor": "#506784",
           "ticks": "",
           "title": {
            "standoff": 15
           },
           "zerolinecolor": "#283442",
           "zerolinewidth": 2
          },
          "yaxis": {
           "automargin": true,
           "gridcolor": "#283442",
           "linecolor": "#506784",
           "ticks": "",
           "title": {
            "standoff": 15
           },
           "zerolinecolor": "#283442",
           "zerolinewidth": 2
          }
         }
        }
       }
      }
     },
     "metadata": {},
     "output_type": "display_data"
    }
   ],
   "source": [
    "plot_trajectory(df)"
   ]
  }
 ],
 "metadata": {
  "kernelspec": {
   "display_name": "venv_geolife",
   "language": "python",
   "name": "python3"
  },
  "language_info": {
   "codemirror_mode": {
    "name": "ipython",
    "version": 3
   },
   "file_extension": ".py",
   "mimetype": "text/x-python",
   "name": "python",
   "nbconvert_exporter": "python",
   "pygments_lexer": "ipython3",
   "version": "3.10.12"
  }
 },
 "nbformat": 4,
 "nbformat_minor": 2
}
